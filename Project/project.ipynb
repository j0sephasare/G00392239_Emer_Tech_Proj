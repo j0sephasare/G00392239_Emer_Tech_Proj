{
 "cells": [
  {
   "cell_type": "markdown",
   "metadata": {},
   "source": [
    "# Deutsch's Algorithm\n",
    "\n"
   ]
  },
  {
   "cell_type": "markdown",
   "metadata": {},
   "source": [
    "## Introduction "
   ]
  },
  {
   "cell_type": "markdown",
   "metadata": {},
   "source": [
    "\n",
    "To explain Deutsch's Algorithm I first have to explain what is quantum algorithms is quantum algorithms is an algorithm that runs on a realistic model of quantum computation the most commonly used model is a quantum circuit model of computation[[8]](https://en.wikipedia.org/wiki/Quantum_algorithm).\n",
    "\n",
    " In Quantum information theory a quantum circuit is a model for quantum computation a model describes how an output of a mathematical function is computed given an input it describes how units of computations, memories and commcation are organized [[13]](https://cs.brown.edu/people/jsavage/book/pdfs/ModelsOfComputation.pdf)\n",
    "\n",
    "A regular algorithm has a step by step guide for solving a problem where each step can be done on a classical computor similarly quantum algorithms follow the same step by step guide but are preformed on a quantum computer[[9]](https://www.researchgate.net/publication/220696169_Quantum_Computer_Science).\n",
    "\n",
    " The term quantum algorithm is used for algorithms that seem quantum or use some feature of quantum computation such as quantum superposition. The reason why quantum algorithms are interesting is because they are able to solve problems faster than classical algorithms because the quantum superposition and quantum entanglement that quantum alogorithms use cannot be simulated the same way on a classical computer.\n",
    " \n",
    "  An example of a quantum algorithm would be Deutsch-Jozsa algorithm it is an algorithm that solves a black box problem which is a system that can be viewed in terms of its inputs and outputs without any knowledge of its internal workings[[10]](https://en.wikipedia.org/wiki/Black_box).\n",
    "  \n",
    "   It would require many queries for any classical computer but can be done with one query on a quantum computer. The algorithm determines whether a function f is either constant 0 on all inputs or 1 on all inputs or balanced returning 1 for half the input domain and 0 for the other half.\n",
    "\n",
    "   A quibit which is short for quantum bit is a basic unit of information in computing and counterpart to a bit in classical computing it is somewhat the same as a bit in terms of storing information but its different due to the quantum properties on which it's based[[14]](https://www.techtarget.com/whatis/definition/qubit).\n",
    "\n",
    "   One of the properties that seperate a qubit from a bit is that it can be in a superposition. Superposition is one of the fundamental principles of quantum mechanics. Qubits can be in a superposition of both the states |0> and |1>. When a qubit is measured the qubit will collapse to one of its eigenstates and the measured value will reflect the state. for example when a qubit is in a superposition state of equals weights a measurement will make it collapse to one of its two basis states |0> and |1> with an equal probability of 50% |0> is the state that when measured and therefore collapsed will always give the result 0 similarly |1> will always convert to |1> will always covert to 1[[15]](https://www.quantum-inspire.com/kbase/superposition-and-entanglement/).\n",
    "\n",
    "   When it comes to entanglement it would be a considered a counter-intuitive phenomena. A pair of particle is entangled when the quantum state of each particle cannon be described independently of the quantum state of the other particles. The quantum state of the system as a whole can be described as it being in a definite sate although the parts of the system are not. When two quibits are entangled there exists a special connection between them the entanglement becomes clear from the results of the measurements. The results of the measurements on the individual quibits could be 0 or 1. However the result of the measuremeant one one qubit will always correlate to the measurement on the other quibit[[15]](https://www.quantum-inspire.com/kbase/superposition-and-entanglement/).\n",
    "###  Foundations of the Deutsch Algorithm\n",
    "The Deutsch Joza algorithm is an algorithm proposed by David Deutsch and Richard Jozsa in 1992 it is one the first examples of a quantum algorithm and is much faster than any possible classical algorithm[[11]](https://en.wikipedia.org/wiki/Deutsch%E2%80%93Jozsa_algorithm). The reason the Deatsch-Jozsa algorithm is significant is because it was the first quantum algorithm to show a seperation between the quantum and classical difficulty of a problem. The algorithm shows a scenario where a quantum computer is capable of outperforming a classical computor the Deutsch-Jozsa method highlights the utility of employing negative amplitudes which classical computing can not do and it was also a stepping stone for the development of many other quantum algorithms such as the Bernstein-Vazirani algorithms. [[12]](https://www.classiq.io/insights/the-deutsch-jozsa-algorithm-explained#:~:text=The%20Deutsch%2DJozsa%20algorithm%20determines,likely%20constant%20or%20likely%20balanced.)\n",
    "\n",
    "### Problem statement\n",
    "in the Deutsch-Jozsa problem we are given a black box quantum computer that is known as a oracle that implements some function. The function takes  n-bit binary values as inputs and produces either a 0 or a 1 as an output for each such value. The function is either constant or balanced the task then is to determine if F is constant or balanced.[[11]](https://en.wikipedia.org/wiki/Deutsch%E2%80%93Jozsa_algorithm)\n",
    "\n",
    "### Algorithm\n",
    "\n",
    "For the Deutsch-Joza algorithm to work the oracle computing  computing f(x) from x must be a quantum oracle which does not decohere x. It also must not make a copy of x because that would violate the no cloning theorem. The algoritm bgins with the n+1 bit state that is the first n bits are each in the state |0> and the final bit is |1>.[[11]](https://en.wikipedia.org/wiki/Deutsch%E2%80%93Jozsa_algorithm)\n",
    "\n",
    "\n",
    "The Bernstein-Vazirani algorithm is similar to the Deutsch-Jozsa algorithm showing similar 0(1) complexity and using similar quantum properties. \n",
    "   "
   ]
  },
  {
   "cell_type": "code",
   "execution_count": null,
   "metadata": {},
   "outputs": [],
   "source": []
  },
  {
   "cell_type": "markdown",
   "metadata": {},
   "source": [
    "\n"
   ]
  },
  {
   "cell_type": "markdown",
   "metadata": {},
   "source": [
    "# Problem Explanation"
   ]
  },
  {
   "cell_type": "markdown",
   "metadata": {},
   "source": [
    "# Deutschs algorithms Explanation"
   ]
  },
  {
   "cell_type": "markdown",
   "metadata": {},
   "source": []
  },
  {
   "cell_type": "markdown",
   "metadata": {},
   "source": [
    "# References\n",
    "\n",
    "Quantum Mechanics Explained by wikipedia https://en.wikipedia.org/wiki/Quantum_mechanics [[1]](https://en.wikipedia.org/wiki/Quantum_mechanics)\n",
    "\n",
    "A Computer Explained by wikipedia https://en.wikipedia.org/wiki/Computer [[2]](https://en.wikipedia.org/wiki/Computer)\n",
    "\n",
    "What a Computer is https://www.computerhope.com/jargon/c/computer.htm [[3]](https://www.computerhope.com/jargon/c/computer.htm)\n",
    "\n",
    "What is quantum Computing  https://aws.amazon.com/what-is/quantum-computing/#:~:text=Quantum%20computing%20is%20a%20multidisciplinary,faster%20than%20on%20classical%20computers.[[4]](https://aws.amazon.com/what-is/quantum-computing/#:~:text=Quantum%20computing%20is%20a%20multidisciplinary,faster%20than%20on%20classical%20computers.)\n",
    "\n",
    "SuperPosition https://www.techtarget.com/whatis/definition/superposition#:~:text=Superposition%20is%20the%20ability%20of,the%20English%20physicist%2C%20Thomas%20Young.[[5]](https://www.techtarget.com/whatis/definition/superposition#:~:text=Superposition%20is%20the%20ability%20of,the%20English%20physicist%2C%20Thomas%20Young.)\n",
    "\n",
    "What is quantum interference and how does it work https://www.techtarget.com/whatis/definition/quantum-interference#:~:text=Quantum%20interference%20is%20when%20subatomic,the%20quantum%20state%20is%20measured.[[6]](https://www.techtarget.com/whatis/definition/quantum-interference#:~:text=Quantum%20interference%20is%20when%20subatomic,the%20quantum%20state%20is%20measured.)\n",
    "\n",
    "what is a quantum algorithm https://www.quantum-inspire.com/kbase/what-is-a-quantum-algorithm/[[7]](https://www.quantum-inspire.com/kbase/what-is-a-quantum-algorithm/)\n",
    "\n",
    "Quantum algorithm https://en.wikipedia.org/wiki/Quantum_algorithm[[8]](https://en.wikipedia.org/wiki/Quantum_algorithm)\n",
    "\n",
    "Quantum Computer Science https://www.researchgate.net/publication/220696169_Quantum_Computer_Science[[9]](https://www.researchgate.net/publication/220696169_Quantum_Computer_Science)\n",
    "\n",
    "Black Box https://en.wikipedia.org/wiki/Black_box[[10]](https://en.wikipedia.org/wiki/Black_box)\n",
    "\n",
    "Deutsch-Jozsa algorithm https://en.wikipedia.org/wiki/Deutsch%E2%80%93Jozsa_algorithm[[11]](https://en.wikipedia.org/wiki/Deutsch%E2%80%93Jozsa_algorithm)\n",
    "\n",
    "Deutsch-Josza algorithm explained https://www.classiq.io/insights/the-deutsch-jozsa-algorithm-explained#:~:text=The%20Deutsch%2DJozsa%20algorithm%20determines,likely%20constant%20or%20likely%20balanced.[[12]](https://www.classiq.io/insights/the-deutsch-jozsa-algorithm-explained#:~:text=The%20Deutsch%2DJozsa%20algorithm%20determines,likely%20constant%20or%20likely%20balanced.)\n",
    "\n",
    "Computation https://cs.brown.edu/people/jsavage/book/pdfs/ModelsOfComputation.pdf[[13]](https://cs.brown.edu/people/jsavage/book/pdfs/ModelsOfComputation.pdf)\n",
    "\n",
    "Qubit https://www.techtarget.com/whatis/definition/qubit[[14]](https://www.techtarget.com/whatis/definition/qubit)\n",
    "\n",
    "\n",
    "Superposition and entanglement https://www.quantum-inspire.com/kbase/superposition-and-entanglement/[[15]](https://www.quantum-inspire.com/kbase/superposition-and-entanglement/).\n"
   ]
  },
  {
   "cell_type": "markdown",
   "metadata": {},
   "source": []
  }
 ],
 "metadata": {
  "interpreter": {
   "hash": "b89b5cfaba6639976dc87ff2fec6d58faec662063367e2c229c520fe71072417"
  },
  "kernelspec": {
   "display_name": "Python 3.10.5 64-bit",
   "language": "python",
   "name": "python3"
  },
  "language_info": {
   "codemirror_mode": {
    "name": "ipython",
    "version": 3
   },
   "file_extension": ".py",
   "mimetype": "text/x-python",
   "name": "python",
   "nbconvert_exporter": "python",
   "pygments_lexer": "ipython3",
   "version": "3.10.5"
  },
  "orig_nbformat": 4
 },
 "nbformat": 4,
 "nbformat_minor": 2
}
