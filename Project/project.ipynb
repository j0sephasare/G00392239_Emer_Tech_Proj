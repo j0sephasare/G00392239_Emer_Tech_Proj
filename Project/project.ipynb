{
 "cells": [
  {
   "cell_type": "markdown",
   "metadata": {},
   "source": [
    "# Deutsch's Algorithm\n",
    "\n"
   ]
  },
  {
   "cell_type": "markdown",
   "metadata": {},
   "source": [
    "##  Introduction "
   ]
  },
  {
   "cell_type": "markdown",
   "metadata": {},
   "source": [
    "\n",
    "To explain Deutsch's Algorithm I first have to explain what  is  an quantum algorithm. A quantum algorithm is an algorithm that runs on a realistic model of quantum computation.[[8]](https://en.wikipedia.org/wiki/Quantum_algorithm).\n",
    "\n",
    " In Quantum information theory a quantum circuit is a model for quantum computation. A model describes how an output of a mathematical function is computed given an input. It describes how units of computations, memories and comunication are organized.[[13]](https://cs.brown.edu/people/jsavage/book/pdfs/ModelsOfComputation.pdf)\n",
    "\n",
    "A regular algorithm has a step by step guide for solving a problem where each step can be done on a classical computor similarly quantum algorithms follow the same step by step guide but are preformed on a quantum computer[[9]](https://www.researchgate.net/publication/220696169_Quantum_Computer_Science).\n",
    "\n",
    " The term quantum algorithm is used for algorithms that seem quantum or use some feature of quantum computation such as quantum superposition. The reason why quantum algorithms are interesting is because they are able to solve problems faster than classical algorithms because the quantum superposition and quantum entanglement that quantum alogorithms use cannot be simulated the same way on a classical computer.\n",
    " \n",
    "  An example of a quantum algorithm would be Deutsch-Jozsa algorithm it is an algorithm that solves a black box problem which is a system that can be viewed in terms of its inputs and outputs without any knowledge of its internal workings[[10]](https://en.wikipedia.org/wiki/Black_box).\n",
    "  \n",
    "   It would require many queries for any classical computer but can be done with one query on a quantum computer. The algorithm determines whether a function f is either constant 0 on all inputs or 1 on all inputs or balanced returning 1 for half the input domain and 0 for the other half.\n",
    "\n",
    "   A quibit which is short for quantum bit is a basic unit of information in computing and counterpart to a bit in classical computing it is somewhat the same as a bit in terms of storing information but its different due to the quantum properties on which it's based[[14]](https://www.techtarget.com/whatis/definition/qubit).\n",
    "\n",
    "   One of the properties that seperate a qubit from a bit is that it can be in a superposition. Superposition is one of the fundamental principles of quantum mechanics. Qubits can be in a superposition of both the states |0> and |1>. When a qubit is measured the qubit will collapse to one of its eigenstates and the measured value will reflect the state. for example when a qubit is in a superposition state of equals weights a measurement will make it collapse to one of its two basis states |0> and |1> with an equal probability of 50% |0> is the state that when measured and therefore collapsed will always give the result 0 similarly |1> will always convert to |1> will always covert to 1[[15]](https://www.quantum-inspire.com/kbase/superposition-and-entanglement/).\n",
    "\n",
    "   When it comes to entanglement it would be a considered a counter-intuitive phenomena. A pair of particle is entangled when the quantum state of each particle cannon be described independently of the quantum state of the other particles. The quantum state of the system as a whole can be described as it being in a definite sate although the parts of the system are not. When two quibits are entangled there exists a special connection between them the entanglement becomes clear from the results of the measurements. The results of the measurements on the individual quibits could be 0 or 1. However the result of the measuremeant one one qubit will always correlate to the measurement on the other quibit[[15]](https://www.quantum-inspire.com/kbase/superposition-and-entanglement/).\n",
    "###  Foundations of the Deutsch Algorithm\n",
    "The Deutsch Joza algorithm is an algorithm proposed by David Deutsch and Richard Jozsa in 1992 it is one the first examples of a quantum algorithm and is much faster than any possible classical algorithm[[11]](https://en.wikipedia.org/wiki/Deutsch%E2%80%93Jozsa_algorithm). The reason the Deatsch-Jozsa algorithm is significant is because it was the first quantum algorithm to show a seperation between the quantum and classical difficulty of a problem. The algorithm shows a scenario where a quantum computer is capable of outperforming a classical computor the Deutsch-Jozsa method highlights the utility of employing negative amplitudes which classical computing can not do and it was also a stepping stone for the development of many other quantum algorithms such as the Bernstein-Vazirani algorithms. [[12]](https://www.classiq.io/insights/the-deutsch-jozsa-algorithm-explained#:~:text=The%20Deutsch%2DJozsa%20algorithm%20determines,likely%20constant%20or%20likely%20balanced.)\n",
    "\n",
    "### Problem statement\n",
    "in the Deutsch-Jozsa problem we are given a black box quantum computer that is known as a oracle that implements some function. The function takes  n-bit binary values as inputs and produces either a 0 or a 1 as an output for each such value. The function is either constant or balanced the task then is to determine if F is constant or balanced.[[11]](https://en.wikipedia.org/wiki/Deutsch%E2%80%93Jozsa_algorithm)\n",
    "\n",
    "\n",
    "### Algorithm\n",
    "\n",
    "For the Deutsch-Joza algorithm to work the oracle computing  computing f(x) from x must be a quantum oracle which does not decohere x. It also must not make a copy of x because that would violate the no cloning theorem. The algoritm bgins with the n+1 bit state that is the first n bits are each in the state |0> and the final bit is |1>.[[11]](https://en.wikipedia.org/wiki/Deutsch%E2%80%93Jozsa_algorithm)\n",
    "\n",
    "### Mathematical Formulation \n",
    "\n",
    "Let $( f: {0,1} -> {0,1} )$ represent the Boolean function in question. The problem can be formally defined as follows:\n",
    "\n",
    "\n",
    "$f(x) =\n",
    "\\begin{cases} \n",
    "0 & \\text{if } f(0) = f(1) \\\\\n",
    "1 & \\text{if } f(0) \\neq f(1)\n",
    "\\end{cases}$\n",
    "\n",
    "Here, $( f(0) )$ and $( f(1) )$ denote the outputs of the function for the inputs 0 and 1, respectively. The goal is to determine if the function is **constant** (outputs 0 for all inputs) or **balanced** (outputs 0 for half the inputs and 1 for the other half).\n",
    "\n",
    "\n",
    "\n",
    "The Bernstein-Vazirani algorithm is similar to the Deutsch-Jozsa algorithm showing similar 0(1) complexity and using similar quantum properties. \n",
    "   "
   ]
  },
  {
   "cell_type": "markdown",
   "metadata": {},
   "source": [
    "## Quantum Parallelism \n",
    "The usual way in computing a person would get knowledge about the behaviour of a function by evaluating it. Deutsch's way makes use of quantum parallelism. It uses quibits which by superposition can be in several states at once. \n",
    "\n",
    " 1. **Initialization:** Begin with two qubits initialized to the state $$ |01\\rangle $$\n",
    "2. **Superposition:** Apply a Hadamard gate to each qubit to create a superposition of all possible states. $$ \\frac{1}{\\sqrt{2}}(|0\\rangle - |1\\rangle) \\otimes \\frac{1}{\\sqrt{2}}(|0\\rangle + |1\\rangle) $$\n",
    "3. **Oracle Query:** Apply the oracle function, which is represented by a quantum gate to the superposition of states. This step is crucial for the algorithm's efficiency. $$ \\frac{1}{\\sqrt{2}}(|f(0)\\rangle - |f(1)\\rangle) \\otimes \\frac{1}{\\sqrt{2}}(|0\\rangle + |1\\rangle) $$\n",
    "4. **Analysis:** Apply Hadamard gates again to the first qubit to bring it back to the computational basis. This step amplifies the amplitudes of the states corresponding to the function outputs. $$ \\frac{1}{\\sqrt{2}}(|f(0)\\rangle - |f(1)\\rangle) $$\n",
    "5. **Measurement:** Finally, measure the first qubit. If the result is $( |0\\rangle )$, the function is constant; if the result is $( |1\\rangle )$, the function is balanced.\n",
    "\n",
    "#### Mathematical Representation:\n",
    "The algorithm's quantum circuit can be succinctly represented in LaTeX notation. For example, the circuit implementing Deutsch's algorithm for a specific oracle function $( U_f )$ can be expressed as follows: $$ |0\\rangle \\xrightarrow{\\text{H}} \\frac{1}{\\sqrt{2}}(|0\\rangle - |1\\rangle) \\xrightarrow{\\text{U}_f} \\frac{1}{\\sqrt{2}}(|f(0)\\rangle - |f(1)\\rangle) \\xrightarrow{\\text{H}} \\text{Result} $$\n",
    "\n",
    "\n"
   ]
  },
  {
   "cell_type": "markdown",
   "metadata": {},
   "source": []
  },
  {
   "cell_type": "code",
   "execution_count": null,
   "metadata": {},
   "outputs": [],
   "source": [
    "\n",
    "%pip install qiskit\n"
   ]
  },
  {
   "cell_type": "code",
   "execution_count": 1,
   "metadata": {},
   "outputs": [
    {
     "name": "stdout",
     "output_type": "stream",
     "text": [
      "Collecting matplotlib\n",
      "  Downloading matplotlib-3.8.2-cp311-cp311-win_amd64.whl.metadata (5.9 kB)\n",
      "Collecting contourpy>=1.0.1 (from matplotlib)\n",
      "  Downloading contourpy-1.2.0-cp311-cp311-win_amd64.whl.metadata (5.8 kB)\n",
      "Collecting cycler>=0.10 (from matplotlib)\n",
      "  Downloading cycler-0.12.1-py3-none-any.whl.metadata (3.8 kB)\n",
      "Collecting fonttools>=4.22.0 (from matplotlib)\n",
      "  Downloading fonttools-4.46.0-cp311-cp311-win_amd64.whl.metadata (159 kB)\n",
      "     ---------------------------------------- 0.0/159.4 kB ? eta -:--:--\n",
      "     -- ------------------------------------- 10.2/159.4 kB ? eta -:--:--\n",
      "     ------------------------------------ - 153.6/159.4 kB 3.1 MB/s eta 0:00:01\n",
      "     -------------------------------------- 159.4/159.4 kB 2.4 MB/s eta 0:00:00\n",
      "Collecting kiwisolver>=1.3.1 (from matplotlib)\n",
      "  Downloading kiwisolver-1.4.5-cp311-cp311-win_amd64.whl.metadata (6.5 kB)\n",
      "Requirement already satisfied: numpy<2,>=1.21 in c:\\g00392239_emer_tech_proj\\.venv\\lib\\site-packages (from matplotlib) (1.26.2)\n",
      "Requirement already satisfied: packaging>=20.0 in c:\\g00392239_emer_tech_proj\\.venv\\lib\\site-packages (from matplotlib) (23.2)\n",
      "Collecting pillow>=8 (from matplotlib)\n",
      "  Downloading Pillow-10.1.0-cp311-cp311-win_amd64.whl.metadata (9.6 kB)\n",
      "Collecting pyparsing>=2.3.1 (from matplotlib)\n",
      "  Downloading pyparsing-3.1.1-py3-none-any.whl.metadata (5.1 kB)\n",
      "Requirement already satisfied: python-dateutil>=2.7 in c:\\g00392239_emer_tech_proj\\.venv\\lib\\site-packages (from matplotlib) (2.8.2)\n",
      "Requirement already satisfied: six>=1.5 in c:\\g00392239_emer_tech_proj\\.venv\\lib\\site-packages (from python-dateutil>=2.7->matplotlib) (1.16.0)\n",
      "Downloading matplotlib-3.8.2-cp311-cp311-win_amd64.whl (7.6 MB)\n",
      "   ---------------------------------------- 0.0/7.6 MB ? eta -:--:--\n",
      "   - -------------------------------------- 0.3/7.6 MB 7.9 MB/s eta 0:00:01\n",
      "   ----- ---------------------------------- 1.0/7.6 MB 13.0 MB/s eta 0:00:01\n",
      "   --------- ------------------------------ 1.8/7.6 MB 14.3 MB/s eta 0:00:01\n",
      "   ------------- -------------------------- 2.6/7.6 MB 15.1 MB/s eta 0:00:01\n",
      "   ------------------ --------------------- 3.5/7.6 MB 15.9 MB/s eta 0:00:01\n",
      "   --------------------- ------------------ 4.2/7.6 MB 15.8 MB/s eta 0:00:01\n",
      "   --------------------------- ------------ 5.2/7.6 MB 16.5 MB/s eta 0:00:01\n",
      "   -------------------------------- ------- 6.2/7.6 MB 17.3 MB/s eta 0:00:01\n",
      "   ------------------------------------- -- 7.2/7.6 MB 17.6 MB/s eta 0:00:01\n",
      "   ---------------------------------------  7.6/7.6 MB 18.1 MB/s eta 0:00:01\n",
      "   ---------------------------------------- 7.6/7.6 MB 16.3 MB/s eta 0:00:00\n",
      "Downloading contourpy-1.2.0-cp311-cp311-win_amd64.whl (187 kB)\n",
      "   ---------------------------------------- 0.0/187.6 kB ? eta -:--:--\n",
      "   --------------------------------------- 187.6/187.6 kB 11.8 MB/s eta 0:00:00\n",
      "Downloading cycler-0.12.1-py3-none-any.whl (8.3 kB)\n",
      "Downloading fonttools-4.46.0-cp311-cp311-win_amd64.whl (2.2 MB)\n",
      "   ---------------------------------------- 0.0/2.2 MB ? eta -:--:--\n",
      "   ---------------------- ----------------- 1.2/2.2 MB 25.7 MB/s eta 0:00:01\n",
      "   ---------------------------------------  2.2/2.2 MB 27.7 MB/s eta 0:00:01\n",
      "   ---------------------------------------- 2.2/2.2 MB 23.1 MB/s eta 0:00:00\n",
      "Downloading kiwisolver-1.4.5-cp311-cp311-win_amd64.whl (56 kB)\n",
      "   ---------------------------------------- 0.0/56.1 kB ? eta -:--:--\n",
      "   ---------------------------------------- 56.1/56.1 kB 2.9 MB/s eta 0:00:00\n",
      "Downloading Pillow-10.1.0-cp311-cp311-win_amd64.whl (2.6 MB)\n",
      "   ---------------------------------------- 0.0/2.6 MB ? eta -:--:--\n",
      "   --------------- ------------------------ 1.0/2.6 MB 32.7 MB/s eta 0:00:01\n",
      "   ------------------------------------- -- 2.5/2.6 MB 31.5 MB/s eta 0:00:01\n",
      "   ---------------------------------------- 2.6/2.6 MB 23.8 MB/s eta 0:00:00\n",
      "Downloading pyparsing-3.1.1-py3-none-any.whl (103 kB)\n",
      "   ---------------------------------------- 0.0/103.1 kB ? eta -:--:--\n",
      "   ---------------------------------------- 103.1/103.1 kB 5.8 MB/s eta 0:00:00\n",
      "Installing collected packages: pyparsing, pillow, kiwisolver, fonttools, cycler, contourpy, matplotlib\n",
      "Successfully installed contourpy-1.2.0 cycler-0.12.1 fonttools-4.46.0 kiwisolver-1.4.5 matplotlib-3.8.2 pillow-10.1.0 pyparsing-3.1.1\n",
      "Note: you may need to restart the kernel to use updated packages.\n"
     ]
    }
   ],
   "source": [
    "%pip install matplotlib\n"
   ]
  },
  {
   "cell_type": "code",
   "execution_count": 2,
   "metadata": {},
   "outputs": [
    {
     "name": "stdout",
     "output_type": "stream",
     "text": [
      "Collecting pylatexenc\n",
      "  Downloading pylatexenc-2.10.tar.gz (162 kB)\n",
      "     ---------------------------------------- 0.0/162.6 kB ? eta -:--:--\n",
      "     -- ------------------------------------- 10.2/162.6 kB ? eta -:--:--\n",
      "     -- ------------------------------------- 10.2/162.6 kB ? eta -:--:--\n",
      "     --------- --------------------------- 41.0/162.6 kB 279.3 kB/s eta 0:00:01\n",
      "     ------------------------------------ 162.6/162.6 kB 970.4 kB/s eta 0:00:00\n",
      "  Installing build dependencies: started\n",
      "  Installing build dependencies: finished with status 'done'\n",
      "  Getting requirements to build wheel: started\n",
      "  Getting requirements to build wheel: finished with status 'done'\n",
      "  Preparing metadata (pyproject.toml): started\n",
      "  Preparing metadata (pyproject.toml): finished with status 'done'\n",
      "Building wheels for collected packages: pylatexenc\n",
      "  Building wheel for pylatexenc (pyproject.toml): started\n",
      "  Building wheel for pylatexenc (pyproject.toml): finished with status 'done'\n",
      "  Created wheel for pylatexenc: filename=pylatexenc-2.10-py3-none-any.whl size=136849 sha256=8a00e3fb0c23915a64af7d816cc96e760e474fffd6d57484f820ba14de4e24f4\n",
      "  Stored in directory: c:\\users\\g00392239@atu.ie\\appdata\\local\\pip\\cache\\wheels\\b1\\7a\\33\\9fdd892f784ed4afda62b685ae3703adf4c91aa0f524c28f03\n",
      "Successfully built pylatexenc\n",
      "Installing collected packages: pylatexenc\n",
      "Successfully installed pylatexenc-2.10\n",
      "Note: you may need to restart the kernel to use updated packages.\n"
     ]
    }
   ],
   "source": [
    "%pip install pylatexenc"
   ]
  },
  {
   "cell_type": "code",
   "execution_count": 3,
   "metadata": {},
   "outputs": [
    {
     "name": "stdout",
     "output_type": "stream",
     "text": [
      "Requirement already satisfied: qiskit-aer in c:\\g00392239_emer_tech_proj\\.venv\\lib\\site-packages (0.13.1)\n",
      "Requirement already satisfied: qiskit>=0.44.0 in c:\\g00392239_emer_tech_proj\\.venv\\lib\\site-packages (from qiskit-aer) (0.45.1)\n",
      "Requirement already satisfied: numpy>=1.16.3 in c:\\g00392239_emer_tech_proj\\.venv\\lib\\site-packages (from qiskit-aer) (1.26.2)\n",
      "Requirement already satisfied: scipy>=1.0 in c:\\g00392239_emer_tech_proj\\.venv\\lib\\site-packages (from qiskit-aer) (1.11.4)\n",
      "Requirement already satisfied: psutil>=5 in c:\\g00392239_emer_tech_proj\\.venv\\lib\\site-packages (from qiskit-aer) (5.9.6)\n",
      "Requirement already satisfied: qiskit-terra==0.45.1 in c:\\g00392239_emer_tech_proj\\.venv\\lib\\site-packages (from qiskit>=0.44.0->qiskit-aer) (0.45.1)\n",
      "Requirement already satisfied: rustworkx>=0.13.0 in c:\\g00392239_emer_tech_proj\\.venv\\lib\\site-packages (from qiskit-terra==0.45.1->qiskit>=0.44.0->qiskit-aer) (0.13.2)\n",
      "Requirement already satisfied: ply>=3.10 in c:\\g00392239_emer_tech_proj\\.venv\\lib\\site-packages (from qiskit-terra==0.45.1->qiskit>=0.44.0->qiskit-aer) (3.11)\n",
      "Requirement already satisfied: sympy>=1.3 in c:\\g00392239_emer_tech_proj\\.venv\\lib\\site-packages (from qiskit-terra==0.45.1->qiskit>=0.44.0->qiskit-aer) (1.12)\n",
      "Requirement already satisfied: dill>=0.3 in c:\\g00392239_emer_tech_proj\\.venv\\lib\\site-packages (from qiskit-terra==0.45.1->qiskit>=0.44.0->qiskit-aer) (0.3.7)\n",
      "Requirement already satisfied: python-dateutil>=2.8.0 in c:\\g00392239_emer_tech_proj\\.venv\\lib\\site-packages (from qiskit-terra==0.45.1->qiskit>=0.44.0->qiskit-aer) (2.8.2)\n",
      "Requirement already satisfied: stevedore>=3.0.0 in c:\\g00392239_emer_tech_proj\\.venv\\lib\\site-packages (from qiskit-terra==0.45.1->qiskit>=0.44.0->qiskit-aer) (5.1.0)\n",
      "Requirement already satisfied: six>=1.5 in c:\\g00392239_emer_tech_proj\\.venv\\lib\\site-packages (from python-dateutil>=2.8.0->qiskit-terra==0.45.1->qiskit>=0.44.0->qiskit-aer) (1.16.0)\n",
      "Requirement already satisfied: pbr!=2.1.0,>=2.0.0 in c:\\g00392239_emer_tech_proj\\.venv\\lib\\site-packages (from stevedore>=3.0.0->qiskit-terra==0.45.1->qiskit>=0.44.0->qiskit-aer) (6.0.0)\n",
      "Requirement already satisfied: mpmath>=0.19 in c:\\g00392239_emer_tech_proj\\.venv\\lib\\site-packages (from sympy>=1.3->qiskit-terra==0.45.1->qiskit>=0.44.0->qiskit-aer) (1.3.0)\n",
      "Note: you may need to restart the kernel to use updated packages.\n"
     ]
    }
   ],
   "source": [
    "%pip install qiskit-aer"
   ]
  },
  {
   "cell_type": "markdown",
   "metadata": {},
   "source": [
    "# Implementations of a qiskit circuit"
   ]
  },
  {
   "cell_type": "code",
   "execution_count": 4,
   "metadata": {},
   "outputs": [
    {
     "name": "stderr",
     "output_type": "stream",
     "text": [
      "c:\\G00392239_Emer_Tech_Proj\\.venv\\Lib\\site-packages\\qiskit\\visualization\\circuit\\matplotlib.py:266: FutureWarning: The default matplotlib drawer scheme will be changed to \"iqp\" in a following release. To silence this warning, specify the current default explicitly as style=\"clifford\", or the new default as style=\"iqp\".\n",
      "  self._style, def_font_ratio = load_style(self._style)\n"
     ]
    },
    {
     "data": {
      "image/png": "[encoded data removed]",
      "text/plain": [
       "<Figure size 700x500 with 1 Axes>"
      ]
     },
     "execution_count": 4,
     "metadata": {},
     "output_type": "execute_result"
    }
   ],
   "source": [
    "\n",
    "# Import necessary libraries\n",
    "from qiskit import QuantumCircuit, Aer, transpile, assemble, execute\n",
    "from qiskit.visualization import plot_histogram\n",
    "\n",
    "# Create a quantum circuit with two qubits and two classical bits\n",
    "qc = QuantumCircuit(2, 2)\n",
    "# Apply Hadamard gate on both qubits\n",
    "qc.h(0)\n",
    "qc.h(1)\n",
    "# Apply X and H gates to create the oracle for the constant function\n",
    "qc.x(1)\n",
    "qc.h(1)\n",
    "# Apply barrier for better visualization\n",
    "qc.barrier()\n",
    "# Apply Hadamard gate on the first qubit\n",
    "qc.h(0)\n",
    "# Measure both qubits\n",
    "qc.measure([0, 1], [0, 1])\n",
    "# Visualize the quantum circuit\n",
    "qc.draw('mpl')\n",
    "# Simulate the circuit using the Aer simulator\n",
    "simulator = Aer.get_backend('qasm_simulator')\n",
    "compiled_circuit = transpile(qc, simulator)\n",
    "result = execute(compiled_circuit, simulator, shots=1024).result()\n",
    "counts = result.get_counts(qc)\n",
    "\n",
    "# Plot the histogram of measurement outcomes\n",
    "plot_histogram(counts)\n"
   ]
  },
  {
   "cell_type": "markdown",
   "metadata": {},
   "source": [
    "Initialization: Two qubits (q0 and q1) are initialized to the |0⟩ state.\n",
    "\n",
    "Hadamard Gates: Hadamard gates (qc.h()) are applied to both qubits, creating a superposition of all possible states.\n",
    "\n",
    "Oracle Creation: An oracle is implemented using X and H gates on q1. This oracle checks whether the function is constant or balanced.\n",
    "\n",
    "Barrier: A barrier (qc.barrier()) is applied for better visualization.\n",
    "\n",
    "Hadamard on q0: Another Hadamard gate is applied to q0.\n",
    "\n",
    "Measurement: Both qubits are measured.\n",
    "\n",
    "Simulation: The circuit is simulated using the Qiskit Aer simulator.\n",
    "\n",
    "The expected outcome depends on the function implemented by the oracle. In this case, if the oracle implements a constant function, you should observe a measurement outcome of '00'. If it's a balanced function, the outcome should be different from '00'. This is because, for a constant function, the Hadamard on q0 cancels out the effect of the oracle, resulting in '00' with high probability. For a balanced function, the Hadamard gate creates interference, and you'll observe a different outcome.\n",
    "\n",
    "When you run the simulation and plot the histogram, you should see the distribution of measurement outcomes. If the oracle is constant, you'll likely see a bar predominantly at '00'. If it's balanced, you'll see a more uniform distribution of outcomes.\n",
    "\n",
    "Keep in mind that due to the nature of quantum mechanics, the actual outcome in any single run might be probabilistic, but the probabilities will align with the characteristics described above."
   ]
  },
  {
   "cell_type": "markdown",
   "metadata": {},
   "source": []
  },
  {
   "cell_type": "markdown",
   "metadata": {},
   "source": [
    "# Deutsch's Algorithm Code (Qiskit - Quantum Computing in Python)"
   ]
  },
  {
   "cell_type": "code",
   "execution_count": 12,
   "metadata": {},
   "outputs": [
    {
     "name": "stdout",
     "output_type": "stream",
     "text": [
      "The function is constant.\n",
      "The function is constant.\n"
     ]
    }
   ],
   "source": [
    "from qiskit import QuantumCircuit, transpile, assemble, Aer, execute\n",
    "\n",
    "def deutsch_algorithm(oracle):\n",
    "    # Create a quantum circuit with two qubits\n",
    "    qc = QuantumCircuit(2, 1)\n",
    "\n",
    "    # Apply Hadamard gate to both qubits\n",
    "    qc.h(0)\n",
    "    qc.h(1)\n",
    "\n",
    "    # Apply the quantum oracle\n",
    "    qc.compose(oracle, range(2), inplace=True)\n",
    "\n",
    "    # Apply Hadamard gate to the first qubit\n",
    "    qc.h(0)\n",
    "\n",
    "    # Measure the first qubit\n",
    "    qc.measure(0, 0)\n",
    "\n",
    "    # Execute the quantum circuit\n",
    "    backend = Aer.get_backend('qasm_simulator')\n",
    "    result = execute(qc, backend, shots=1).result()\n",
    "    counts = result.get_counts(qc)\n",
    "\n",
    "    # Check if the function is constant or balanced\n",
    "    if '0' in counts:\n",
    "        print(\"The function is constant.\")\n",
    "    else:\n",
    "        print(\"The function is balanced.\")\n",
    "\n",
    "# Oracle for a constant function\n",
    "oracle_constant = QuantumCircuit(2, name='oracle_constant')\n",
    "\n",
    "# Oracle for a balanced function\n",
    "oracle_balanced = QuantumCircuit(2, name='oracle_balanced')\n",
    "oracle_balanced.cx(0, 1)  # Controlled-X gate (CNOT) to make the function balanced\n",
    "\n",
    "# Example usage with a constant function\n",
    "qc_constant = QuantumCircuit(2)\n",
    "qc_constant.compose(oracle_constant, range(2), inplace=True)\n",
    "deutsch_algorithm(qc_constant)\n",
    "\n",
    "# Example usage with a balanced function\n",
    "qc_balanced = QuantumCircuit(2)\n",
    "qc_balanced.compose(oracle_balanced, range(2), inplace=True)\n",
    "deutsch_algorithm(qc_balanced)\n"
   ]
  },
  {
   "cell_type": "markdown",
   "metadata": {},
   "source": [
    "# References\n",
    "\n",
    "Quantum Mechanics Explained by wikipedia https://en.wikipedia.org/wiki/Quantum_mechanics [[1]](https://en.wikipedia.org/wiki/Quantum_mechanics)\n",
    "\n",
    "A Computer Explained by wikipedia https://en.wikipedia.org/wiki/Computer [[2]](https://en.wikipedia.org/wiki/Computer)\n",
    "\n",
    "What a Computer is https://www.computerhope.com/jargon/c/computer.htm [[3]](https://www.computerhope.com/jargon/c/computer.htm)\n",
    "\n",
    "What is quantum Computing  https://aws.amazon.com/what-is/quantum-computing/#:~:text=Quantum%20computing%20is%20a%20multidisciplinary,faster%20than%20on%20classical%20computers.[[4]](https://aws.amazon.com/what-is/quantum-computing/#:~:text=Quantum%20computing%20is%20a%20multidisciplinary,faster%20than%20on%20classical%20computers.)\n",
    "\n",
    "SuperPosition https://www.techtarget.com/whatis/definition/superposition#:~:text=Superposition%20is%20the%20ability%20of,the%20English%20physicist%2C%20Thomas%20Young.[[5]](https://www.techtarget.com/whatis/definition/superposition#:~:text=Superposition%20is%20the%20ability%20of,the%20English%20physicist%2C%20Thomas%20Young.)\n",
    "\n",
    "What is quantum interference and how does it work https://www.techtarget.com/whatis/definition/quantum-interference#:~:text=Quantum%20interference%20is%20when%20subatomic,the%20quantum%20state%20is%20measured.[[6]](https://www.techtarget.com/whatis/definition/quantum-interference#:~:text=Quantum%20interference%20is%20when%20subatomic,the%20quantum%20state%20is%20measured.)\n",
    "\n",
    "what is a quantum algorithm https://www.quantum-inspire.com/kbase/what-is-a-quantum-algorithm/[[7]](https://www.quantum-inspire.com/kbase/what-is-a-quantum-algorithm/)\n",
    "\n",
    "Quantum algorithm https://en.wikipedia.org/wiki/Quantum_algorithm[[8]](https://en.wikipedia.org/wiki/Quantum_algorithm)\n",
    "\n",
    "Quantum Computer Science https://www.researchgate.net/publication/220696169_Quantum_Computer_Science[[9]](https://www.researchgate.net/publication/220696169_Quantum_Computer_Science)\n",
    "\n",
    "Black Box https://en.wikipedia.org/wiki/Black_box[[10]](https://en.wikipedia.org/wiki/Black_box)\n",
    "\n",
    "Deutsch-Jozsa algorithm https://en.wikipedia.org/wiki/Deutsch%E2%80%93Jozsa_algorithm[[11]](https://en.wikipedia.org/wiki/Deutsch%E2%80%93Jozsa_algorithm)\n",
    "\n",
    "Deutsch-Josza algorithm explained https://www.classiq.io/insights/the-deutsch-jozsa-algorithm-explained#:~:text=The%20Deutsch%2DJozsa%20algorithm%20determines,likely%20constant%20or%20likely%20balanced.[[12]](https://www.classiq.io/insights/the-deutsch-jozsa-algorithm-explained#:~:text=The%20Deutsch%2DJozsa%20algorithm%20determines,likely%20constant%20or%20likely%20balanced.)\n",
    "\n",
    "Computation https://cs.brown.edu/people/jsavage/book/pdfs/ModelsOfComputation.pdf[[13]](https://cs.brown.edu/people/jsavage/book/pdfs/ModelsOfComputation.pdf)\n",
    "\n",
    "Qubit https://www.techtarget.com/whatis/definition/qubit[[14]](https://www.techtarget.com/whatis/definition/qubit)\n",
    "\n",
    "\n",
    "Superposition and entanglement https://www.quantum-inspire.com/kbase/superposition-and-entanglement/[[15]](https://www.quantum-inspire.com/kbase/superposition-and-entanglement/).\n"
   ]
  }
 ],
 "metadata": {
  "interpreter": {
   "hash": "b89b5cfaba6639976dc87ff2fec6d58faec662063367e2c229c520fe71072417"
  },
  "kernelspec": {
   "display_name": "Python 3.10.5 64-bit",
   "language": "python",
   "name": "python3"
  },
  "language_info": {
   "codemirror_mode": {
    "name": "ipython",
    "version": 3
   },
   "file_extension": ".py",
   "mimetype": "text/x-python",
   "name": "python",
   "nbconvert_exporter": "python",
   "pygments_lexer": "ipython3",
   "version": "3.11.5"
  },
  "orig_nbformat": 4
 },
 "nbformat": 4,
 "nbformat_minor": 2
}
