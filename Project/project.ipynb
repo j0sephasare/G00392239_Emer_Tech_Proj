{
 "cells": [
  {
   "cell_type": "markdown",
   "metadata": {},
   "source": [
    "# Deutsch's Algorithm\n",
    "\n"
   ]
  },
  {
   "cell_type": "markdown",
   "metadata": {},
   "source": [
    "## Introduction "
   ]
  },
  {
   "cell_type": "markdown",
   "metadata": {},
   "source": [
    "## Quantum Algorithms\n",
    "\n",
    "To explain Deutsch's Algorithm I first have to explain what is quantum algorithms is quantum algorithms is an algorithm that runs on a realistic model of quantum computation the most commonly used model is a quantum circuit model of computation[[8]](https://en.wikipedia.org/wiki/Quantum_algorithm).A regular algorithm has a step by step guide for solving a problem where each step can be done on a classical computor similarly quantum algorithms follow the same step by step guide but are preformed on a quantum computer[[9]](https://www.researchgate.net/publication/220696169_Quantum_Computer_Science). The term quantum algorithm is used for algorithms that seem quantum or use some feature of quantum computation such as quantum superposition. The reason why quantum algorithms are interesting is because they are able to solve problems faster than classical algorithms because the quantum superposition and quantum entanglement that quantum alogorithms use cannot be simulated the same way on a classical computer. An example of a quantum algorithm would be Deutsch-Jozsa algorithm it is an algorithm that solves a black box problem which is a system that can be viewed in terms of its inputs and outputs without any knowledge of its internal workings[[10]](https://en.wikipedia.org/wiki/Black_box). It would require many queries for any classical computer but can be done with one query on a quantum computer. The algorithm determines whether a function f is either constant 0 on all inputs or 1 on all inputs or balanced returning 1 for half the input domain and 0 for the other half."
   ]
  },
  {
   "cell_type": "code",
   "execution_count": null,
   "metadata": {},
   "outputs": [],
   "source": []
  },
  {
   "cell_type": "markdown",
   "metadata": {},
   "source": [
    "###  Foundations of the Deutsch Algorithm\n",
    "The Deutsch Joza algorithm is an algorithm proposed by David Deutsch and Richard Jozsa in 1992 it is one the first examples of a quantum algorithm and is much faster than any possible classical algorithm[[11]](https://en.wikipedia.org/wiki/Deutsch%E2%80%93Jozsa_algorithm). The algorithm shows a scenario where a quantum computer is capable of outperforming a classical computor the Deutsch-Jozsa method highlights the utility of employing negative amplitudes which classical computing can not do and it was also a stepping stone for the development of many other quantum algorithms such as the Bernstein-Vazirani algorithms. [[12]](https://www.classiq.io/insights/the-deutsch-jozsa-algorithm-explained#:~:text=The%20Deutsch%2DJozsa%20algorithm%20determines,likely%20constant%20or%20likely%20balanced.)\n"
   ]
  },
  {
   "cell_type": "markdown",
   "metadata": {},
   "source": [
    "# Problem Explanation"
   ]
  },
  {
   "cell_type": "markdown",
   "metadata": {},
   "source": [
    "# Deutschs algorithms Explanation"
   ]
  },
  {
   "cell_type": "markdown",
   "metadata": {},
   "source": []
  },
  {
   "cell_type": "markdown",
   "metadata": {},
   "source": [
    "# References\n",
    "\n",
    "Quantum Mechanics Explained by wikipedia https://en.wikipedia.org/wiki/Quantum_mechanics [[1]](https://en.wikipedia.org/wiki/Quantum_mechanics)\n",
    "\n",
    "A Computer Explained by wikipedia https://en.wikipedia.org/wiki/Computer [[2]](https://en.wikipedia.org/wiki/Computer)\n",
    "\n",
    "What a Computer is https://www.computerhope.com/jargon/c/computer.htm [[3]](https://www.computerhope.com/jargon/c/computer.htm)\n",
    "\n",
    "What is quantum Computing  https://aws.amazon.com/what-is/quantum-computing/#:~:text=Quantum%20computing%20is%20a%20multidisciplinary,faster%20than%20on%20classical%20computers.[[4]](https://aws.amazon.com/what-is/quantum-computing/#:~:text=Quantum%20computing%20is%20a%20multidisciplinary,faster%20than%20on%20classical%20computers.)\n",
    "\n",
    "SuperPosition https://www.techtarget.com/whatis/definition/superposition#:~:text=Superposition%20is%20the%20ability%20of,the%20English%20physicist%2C%20Thomas%20Young.[[5]](https://www.techtarget.com/whatis/definition/superposition#:~:text=Superposition%20is%20the%20ability%20of,the%20English%20physicist%2C%20Thomas%20Young.)\n",
    "\n",
    "What is quantum interference and how does it work https://www.techtarget.com/whatis/definition/quantum-interference#:~:text=Quantum%20interference%20is%20when%20subatomic,the%20quantum%20state%20is%20measured.[[6]](https://www.techtarget.com/whatis/definition/quantum-interference#:~:text=Quantum%20interference%20is%20when%20subatomic,the%20quantum%20state%20is%20measured.)\n",
    "\n",
    "what is a quantum algorithm https://www.quantum-inspire.com/kbase/what-is-a-quantum-algorithm/[[7]](https://www.quantum-inspire.com/kbase/what-is-a-quantum-algorithm/)\n",
    "\n",
    "Quantum algorithm https://en.wikipedia.org/wiki/Quantum_algorithm[[8]](https://en.wikipedia.org/wiki/Quantum_algorithm)\n",
    "\n",
    "Quantum Computer Science https://www.researchgate.net/publication/220696169_Quantum_Computer_Science[[9]](https://www.researchgate.net/publication/220696169_Quantum_Computer_Science)\n",
    "\n",
    "Black Box https://en.wikipedia.org/wiki/Black_box[[10]](https://en.wikipedia.org/wiki/Black_box)\n",
    "\n",
    "Deutsch-Jozsa algorithm https://en.wikipedia.org/wiki/Deutsch%E2%80%93Jozsa_algorithm[[11]](https://en.wikipedia.org/wiki/Deutsch%E2%80%93Jozsa_algorithm)\n",
    "\n",
    "Deutsch-Josza algorithm explained https://www.classiq.io/insights/the-deutsch-jozsa-algorithm-explained#:~:text=The%20Deutsch%2DJozsa%20algorithm%20determines,likely%20constant%20or%20likely%20balanced.[[12]](https://www.classiq.io/insights/the-deutsch-jozsa-algorithm-explained#:~:text=The%20Deutsch%2DJozsa%20algorithm%20determines,likely%20constant%20or%20likely%20balanced.)"
   ]
  },
  {
   "cell_type": "markdown",
   "metadata": {},
   "source": []
  }
 ],
 "metadata": {
  "interpreter": {
   "hash": "b89b5cfaba6639976dc87ff2fec6d58faec662063367e2c229c520fe71072417"
  },
  "kernelspec": {
   "display_name": "Python 3.10.5 64-bit",
   "language": "python",
   "name": "python3"
  },
  "language_info": {
   "codemirror_mode": {
    "name": "ipython",
    "version": 3
   },
   "file_extension": ".py",
   "mimetype": "text/x-python",
   "name": "python",
   "nbconvert_exporter": "python",
   "pygments_lexer": "ipython3",
   "version": "3.10.5"
  },
  "orig_nbformat": 4
 },
 "nbformat": 4,
 "nbformat_minor": 2
}
