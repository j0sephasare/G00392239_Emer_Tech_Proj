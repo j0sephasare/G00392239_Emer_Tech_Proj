{
 "cells": [
  {
   "cell_type": "markdown",
   "metadata": {},
   "source": [
    "# Deutsch's Algorithm\n",
    "\n"
   ]
  },
  {
   "cell_type": "markdown",
   "metadata": {},
   "source": [
    "##  Introduction "
   ]
  },
  {
   "cell_type": "markdown",
   "metadata": {},
   "source": [
    "\n",
    "To explain Deutsch's Algorithm I first have to explain what  is  an quantum algorithm. A quantum algorithm is an algorithm that runs on a realistic model of quantum computation.[[8]](https://en.wikipedia.org/wiki/Quantum_algorithm).\n",
    "\n",
    " In Quantum information theory a quantum circuit is a model for quantum computation. A model describes how an output of a mathematical function is computed given an input. It describes how units of computations, memories and comunication are organized.[[13]](https://cs.brown.edu/people/jsavage/book/pdfs/ModelsOfComputation.pdf)\n",
    "\n",
    "A regular algorithm has a step by step guide for solving a problem where each step can be done on a classical computor similarly quantum algorithms follow the same step by step guide but are preformed on a quantum computer[[9]](https://www.researchgate.net/publication/220696169_Quantum_Computer_Science).\n",
    "\n",
    " The term quantum algorithm is used for algorithms that seem quantum or use some feature of quantum computation such as quantum superposition. The reason why quantum algorithms are interesting is because they are able to solve problems faster than classical algorithms because the quantum superposition and quantum entanglement that quantum alogorithms use cannot be simulated the same way on a classical computer.\n",
    " \n",
    "  An example of a quantum algorithm would be Deutsch-Jozsa algorithm it is an algorithm that solves a black box problem which is a system that can be viewed in terms of its inputs and outputs without any knowledge of its internal workings[[10]](https://en.wikipedia.org/wiki/Black_box).\n",
    "  \n",
    "   It would require many queries for any classical computer but can be done with one query on a quantum computer. The algorithm determines whether a function f is either constant 0 on all inputs or 1 on all inputs or balanced returning 1 for half the input domain and 0 for the other half.\n",
    "\n",
    "   A quibit which is short for quantum bit is a basic unit of information in computing and counterpart to a bit in classical computing it is somewhat the same as a bit in terms of storing information but its different due to the quantum properties on which it's based[[14]](https://www.techtarget.com/whatis/definition/qubit).\n",
    "\n",
    "   One of the properties that seperate a qubit from a bit is that it can be in a superposition. Superposition is one of the fundamental principles of quantum mechanics. Qubits can be in a superposition of both the states |0> and |1>. When a qubit is measured the qubit will collapse to one of its eigenstates and the measured value will reflect the state. for example when a qubit is in a superposition state of equals weights a measurement will make it collapse to one of its two basis states |0> and |1> with an equal probability of 50% |0> is the state that when measured and therefore collapsed will always give the result 0 similarly |1> will always convert to |1> will always covert to 1[[15]](https://www.quantum-inspire.com/kbase/superposition-and-entanglement/).\n",
    "\n",
    "   When it comes to entanglement it would be a considered a counter-intuitive phenomena. A pair of particle is entangled when the quantum state of each particle cannon be described independently of the quantum state of the other particles. The quantum state of the system as a whole can be described as it being in a definite sate although the parts of the system are not. When two quibits are entangled there exists a special connection between them the entanglement becomes clear from the results of the measurements. The results of the measurements on the individual quibits could be 0 or 1. However the result of the measuremeant one one qubit will always correlate to the measurement on the other quibit[[15]](https://www.quantum-inspire.com/kbase/superposition-and-entanglement/).\n",
    "###  Foundations of the Deutsch Algorithm\n",
    "The Deutsch Joza algorithm is an algorithm proposed by David Deutsch and Richard Jozsa in 1992 it is one the first examples of a quantum algorithm and is much faster than any possible classical algorithm[[11]](https://en.wikipedia.org/wiki/Deutsch%E2%80%93Jozsa_algorithm). The reason the Deatsch-Jozsa algorithm is significant is because it was the first quantum algorithm to show a seperation between the quantum and classical difficulty of a problem. The algorithm shows a scenario where a quantum computer is capable of outperforming a classical computor the Deutsch-Jozsa method highlights the utility of employing negative amplitudes which classical computing can not do and it was also a stepping stone for the development of many other quantum algorithms such as the Bernstein-Vazirani algorithms. [[12]](https://www.classiq.io/insights/the-deutsch-jozsa-algorithm-explained#:~:text=The%20Deutsch%2DJozsa%20algorithm%20determines,likely%20constant%20or%20likely%20balanced.)\n",
    "\n",
    "### Problem statement\n",
    "in the Deutsch-Jozsa problem we are given a black box quantum computer that is known as a oracle that implements some function. The function takes  n-bit binary values as inputs and produces either a 0 or a 1 as an output for each such value. The function is either constant or balanced the task then is to determine if F is constant or balanced.[[11]](https://en.wikipedia.org/wiki/Deutsch%E2%80%93Jozsa_algorithm)\n",
    "\n",
    "\n",
    "### Algorithm\n",
    "\n",
    "For the Deutsch-Joza algorithm to work the oracle computing  computing f(x) from x must be a quantum oracle which does not decohere x. It also must not make a copy of x because that would violate the no cloning theorem. The algoritm bgins with the n+1 bit state that is the first n bits are each in the state |0> and the final bit is |1>.[[11]](https://en.wikipedia.org/wiki/Deutsch%E2%80%93Jozsa_algorithm)\n",
    "\n",
    "### Mathematical Formulation \n",
    "\n",
    "Let $( f: {0,1} -> {0,1} )$ represent the Boolean function in question. The problem can be formally defined as follows:\n",
    "\n",
    "\n",
    "$f(x) =\n",
    "\\begin{cases} \n",
    "0 & \\text{if } f(0) = f(1) \\\\\n",
    "1 & \\text{if } f(0) \\neq f(1)\n",
    "\\end{cases}$\n",
    "\n",
    "Here, $( f(0) )$ and $( f(1) )$ denote the outputs of the function for the inputs 0 and 1, respectively. The goal is to determine if the function is **constant** (outputs 0 for all inputs) or **balanced** (outputs 0 for half the inputs and 1 for the other half).\n",
    "\n",
    "\n",
    "\n",
    "The Bernstein-Vazirani algorithm is similar to the Deutsch-Jozsa algorithm showing similar 0(1) complexity and using similar quantum properties. \n",
    "   "
   ]
  },
  {
   "cell_type": "markdown",
   "metadata": {},
   "source": [
    "## Quantum Parallelism \n",
    "The usual way in computing a person would get knowledge about the behaviour of a function by evaluating it. Deutsch's way makes use of quantum parallelism. It uses quibits which by superposition can be in several states at once. \n",
    "\n",
    " 1. **Initialization:** Begin with two qubits initialized to the state $$ |01\\rangle $$\n",
    "2. **Superposition:** Apply a Hadamard gate to each qubit to create a superposition of all possible states. $$ \\frac{1}{\\sqrt{2}}(|0\\rangle - |1\\rangle) \\otimes \\frac{1}{\\sqrt{2}}(|0\\rangle + |1\\rangle) $$\n",
    "3. **Oracle Query:** Apply the oracle function, which is represented by a quantum gate to the superposition of states. This step is crucial for the algorithm's efficiency. $$ \\frac{1}{\\sqrt{2}}(|f(0)\\rangle - |f(1)\\rangle) \\otimes \\frac{1}{\\sqrt{2}}(|0\\rangle + |1\\rangle) $$\n",
    "4. **Analysis:** Apply Hadamard gates again to the first qubit to bring it back to the computational basis. This step amplifies the amplitudes of the states corresponding to the function outputs. $$ \\frac{1}{\\sqrt{2}}(|f(0)\\rangle - |f(1)\\rangle) $$\n",
    "5. **Measurement:** Finally, measure the first qubit. If the result is $( |0\\rangle )$, the function is constant; if the result is $( |1\\rangle )$, the function is balanced.\n",
    "\n",
    "#### Mathematical Representation:\n",
    "The algorithm's quantum circuit can be succinctly represented in LaTeX notation. For example, the circuit implementing Deutsch's algorithm for a specific oracle function $( U_f )$ can be expressed as follows: $$ |0\\rangle \\xrightarrow{\\text{H}} \\frac{1}{\\sqrt{2}}(|0\\rangle - |1\\rangle) \\xrightarrow{\\text{U}_f} \\frac{1}{\\sqrt{2}}(|f(0)\\rangle - |f(1)\\rangle) \\xrightarrow{\\text{H}} \\text{Result} $$\n",
    "\n",
    "\n"
   ]
  },
  {
   "cell_type": "markdown",
   "metadata": {},
   "source": []
  },
  {
   "cell_type": "code",
   "execution_count": null,
   "metadata": {},
   "outputs": [],
   "source": [
    "\n",
    "%pip install qiskit\n"
   ]
  },
  {
   "cell_type": "code",
   "execution_count": 1,
   "metadata": {},
   "outputs": [
    {
     "name": "stdout",
     "output_type": "stream",
     "text": [
      "Collecting matplotlib\n",
      "  Downloading matplotlib-3.8.2-cp311-cp311-win_amd64.whl.metadata (5.9 kB)\n",
      "Collecting contourpy>=1.0.1 (from matplotlib)\n",
      "  Downloading contourpy-1.2.0-cp311-cp311-win_amd64.whl.metadata (5.8 kB)\n",
      "Collecting cycler>=0.10 (from matplotlib)\n",
      "  Downloading cycler-0.12.1-py3-none-any.whl.metadata (3.8 kB)\n",
      "Collecting fonttools>=4.22.0 (from matplotlib)\n",
      "  Downloading fonttools-4.46.0-cp311-cp311-win_amd64.whl.metadata (159 kB)\n",
      "     ---------------------------------------- 0.0/159.4 kB ? eta -:--:--\n",
      "     -- ------------------------------------- 10.2/159.4 kB ? eta -:--:--\n",
      "     ------------------------------------ - 153.6/159.4 kB 3.1 MB/s eta 0:00:01\n",
      "     -------------------------------------- 159.4/159.4 kB 2.4 MB/s eta 0:00:00\n",
      "Collecting kiwisolver>=1.3.1 (from matplotlib)\n",
      "  Downloading kiwisolver-1.4.5-cp311-cp311-win_amd64.whl.metadata (6.5 kB)\n",
      "Requirement already satisfied: numpy<2,>=1.21 in c:\\g00392239_emer_tech_proj\\.venv\\lib\\site-packages (from matplotlib) (1.26.2)\n",
      "Requirement already satisfied: packaging>=20.0 in c:\\g00392239_emer_tech_proj\\.venv\\lib\\site-packages (from matplotlib) (23.2)\n",
      "Collecting pillow>=8 (from matplotlib)\n",
      "  Downloading Pillow-10.1.0-cp311-cp311-win_amd64.whl.metadata (9.6 kB)\n",
      "Collecting pyparsing>=2.3.1 (from matplotlib)\n",
      "  Downloading pyparsing-3.1.1-py3-none-any.whl.metadata (5.1 kB)\n",
      "Requirement already satisfied: python-dateutil>=2.7 in c:\\g00392239_emer_tech_proj\\.venv\\lib\\site-packages (from matplotlib) (2.8.2)\n",
      "Requirement already satisfied: six>=1.5 in c:\\g00392239_emer_tech_proj\\.venv\\lib\\site-packages (from python-dateutil>=2.7->matplotlib) (1.16.0)\n",
      "Downloading matplotlib-3.8.2-cp311-cp311-win_amd64.whl (7.6 MB)\n",
      "   ---------------------------------------- 0.0/7.6 MB ? eta -:--:--\n",
      "   - -------------------------------------- 0.3/7.6 MB 7.9 MB/s eta 0:00:01\n",
      "   ----- ---------------------------------- 1.0/7.6 MB 13.0 MB/s eta 0:00:01\n",
      "   --------- ------------------------------ 1.8/7.6 MB 14.3 MB/s eta 0:00:01\n",
      "   ------------- -------------------------- 2.6/7.6 MB 15.1 MB/s eta 0:00:01\n",
      "   ------------------ --------------------- 3.5/7.6 MB 15.9 MB/s eta 0:00:01\n",
      "   --------------------- ------------------ 4.2/7.6 MB 15.8 MB/s eta 0:00:01\n",
      "   --------------------------- ------------ 5.2/7.6 MB 16.5 MB/s eta 0:00:01\n",
      "   -------------------------------- ------- 6.2/7.6 MB 17.3 MB/s eta 0:00:01\n",
      "   ------------------------------------- -- 7.2/7.6 MB 17.6 MB/s eta 0:00:01\n",
      "   ---------------------------------------  7.6/7.6 MB 18.1 MB/s eta 0:00:01\n",
      "   ---------------------------------------- 7.6/7.6 MB 16.3 MB/s eta 0:00:00\n",
      "Downloading contourpy-1.2.0-cp311-cp311-win_amd64.whl (187 kB)\n",
      "   ---------------------------------------- 0.0/187.6 kB ? eta -:--:--\n",
      "   --------------------------------------- 187.6/187.6 kB 11.8 MB/s eta 0:00:00\n",
      "Downloading cycler-0.12.1-py3-none-any.whl (8.3 kB)\n",
      "Downloading fonttools-4.46.0-cp311-cp311-win_amd64.whl (2.2 MB)\n",
      "   ---------------------------------------- 0.0/2.2 MB ? eta -:--:--\n",
      "   ---------------------- ----------------- 1.2/2.2 MB 25.7 MB/s eta 0:00:01\n",
      "   ---------------------------------------  2.2/2.2 MB 27.7 MB/s eta 0:00:01\n",
      "   ---------------------------------------- 2.2/2.2 MB 23.1 MB/s eta 0:00:00\n",
      "Downloading kiwisolver-1.4.5-cp311-cp311-win_amd64.whl (56 kB)\n",
      "   ---------------------------------------- 0.0/56.1 kB ? eta -:--:--\n",
      "   ---------------------------------------- 56.1/56.1 kB 2.9 MB/s eta 0:00:00\n",
      "Downloading Pillow-10.1.0-cp311-cp311-win_amd64.whl (2.6 MB)\n",
      "   ---------------------------------------- 0.0/2.6 MB ? eta -:--:--\n",
      "   --------------- ------------------------ 1.0/2.6 MB 32.7 MB/s eta 0:00:01\n",
      "   ------------------------------------- -- 2.5/2.6 MB 31.5 MB/s eta 0:00:01\n",
      "   ---------------------------------------- 2.6/2.6 MB 23.8 MB/s eta 0:00:00\n",
      "Downloading pyparsing-3.1.1-py3-none-any.whl (103 kB)\n",
      "   ---------------------------------------- 0.0/103.1 kB ? eta -:--:--\n",
      "   ---------------------------------------- 103.1/103.1 kB 5.8 MB/s eta 0:00:00\n",
      "Installing collected packages: pyparsing, pillow, kiwisolver, fonttools, cycler, contourpy, matplotlib\n",
      "Successfully installed contourpy-1.2.0 cycler-0.12.1 fonttools-4.46.0 kiwisolver-1.4.5 matplotlib-3.8.2 pillow-10.1.0 pyparsing-3.1.1\n",
      "Note: you may need to restart the kernel to use updated packages.\n"
     ]
    }
   ],
   "source": [
    "%pip install matplotlib\n"
   ]
  },
  {
   "cell_type": "code",
   "execution_count": 2,
   "metadata": {},
   "outputs": [
    {
     "name": "stdout",
     "output_type": "stream",
     "text": [
      "Collecting pylatexenc\n",
      "  Downloading pylatexenc-2.10.tar.gz (162 kB)\n",
      "     ---------------------------------------- 0.0/162.6 kB ? eta -:--:--\n",
      "     -- ------------------------------------- 10.2/162.6 kB ? eta -:--:--\n",
      "     -- ------------------------------------- 10.2/162.6 kB ? eta -:--:--\n",
      "     --------- --------------------------- 41.0/162.6 kB 279.3 kB/s eta 0:00:01\n",
      "     ------------------------------------ 162.6/162.6 kB 970.4 kB/s eta 0:00:00\n",
      "  Installing build dependencies: started\n",
      "  Installing build dependencies: finished with status 'done'\n",
      "  Getting requirements to build wheel: started\n",
      "  Getting requirements to build wheel: finished with status 'done'\n",
      "  Preparing metadata (pyproject.toml): started\n",
      "  Preparing metadata (pyproject.toml): finished with status 'done'\n",
      "Building wheels for collected packages: pylatexenc\n",
      "  Building wheel for pylatexenc (pyproject.toml): started\n",
      "  Building wheel for pylatexenc (pyproject.toml): finished with status 'done'\n",
      "  Created wheel for pylatexenc: filename=pylatexenc-2.10-py3-none-any.whl size=136849 sha256=8a00e3fb0c23915a64af7d816cc96e760e474fffd6d57484f820ba14de4e24f4\n",
      "  Stored in directory: c:\\users\\g00392239@atu.ie\\appdata\\local\\pip\\cache\\wheels\\b1\\7a\\33\\9fdd892f784ed4afda62b685ae3703adf4c91aa0f524c28f03\n",
      "Successfully built pylatexenc\n",
      "Installing collected packages: pylatexenc\n",
      "Successfully installed pylatexenc-2.10\n",
      "Note: you may need to restart the kernel to use updated packages.\n"
     ]
    }
   ],
   "source": [
    "%pip install pylatexenc"
   ]
  },
  {
   "cell_type": "code",
   "execution_count": 3,
   "metadata": {},
   "outputs": [
    {
     "name": "stdout",
     "output_type": "stream",
     "text": [
      "Requirement already satisfied: qiskit-aer in c:\\g00392239_emer_tech_proj\\.venv\\lib\\site-packages (0.13.1)\n",
      "Requirement already satisfied: qiskit>=0.44.0 in c:\\g00392239_emer_tech_proj\\.venv\\lib\\site-packages (from qiskit-aer) (0.45.1)\n",
      "Requirement already satisfied: numpy>=1.16.3 in c:\\g00392239_emer_tech_proj\\.venv\\lib\\site-packages (from qiskit-aer) (1.26.2)\n",
      "Requirement already satisfied: scipy>=1.0 in c:\\g00392239_emer_tech_proj\\.venv\\lib\\site-packages (from qiskit-aer) (1.11.4)\n",
      "Requirement already satisfied: psutil>=5 in c:\\g00392239_emer_tech_proj\\.venv\\lib\\site-packages (from qiskit-aer) (5.9.6)\n",
      "Requirement already satisfied: qiskit-terra==0.45.1 in c:\\g00392239_emer_tech_proj\\.venv\\lib\\site-packages (from qiskit>=0.44.0->qiskit-aer) (0.45.1)\n",
      "Requirement already satisfied: rustworkx>=0.13.0 in c:\\g00392239_emer_tech_proj\\.venv\\lib\\site-packages (from qiskit-terra==0.45.1->qiskit>=0.44.0->qiskit-aer) (0.13.2)\n",
      "Requirement already satisfied: ply>=3.10 in c:\\g00392239_emer_tech_proj\\.venv\\lib\\site-packages (from qiskit-terra==0.45.1->qiskit>=0.44.0->qiskit-aer) (3.11)\n",
      "Requirement already satisfied: sympy>=1.3 in c:\\g00392239_emer_tech_proj\\.venv\\lib\\site-packages (from qiskit-terra==0.45.1->qiskit>=0.44.0->qiskit-aer) (1.12)\n",
      "Requirement already satisfied: dill>=0.3 in c:\\g00392239_emer_tech_proj\\.venv\\lib\\site-packages (from qiskit-terra==0.45.1->qiskit>=0.44.0->qiskit-aer) (0.3.7)\n",
      "Requirement already satisfied: python-dateutil>=2.8.0 in c:\\g00392239_emer_tech_proj\\.venv\\lib\\site-packages (from qiskit-terra==0.45.1->qiskit>=0.44.0->qiskit-aer) (2.8.2)\n",
      "Requirement already satisfied: stevedore>=3.0.0 in c:\\g00392239_emer_tech_proj\\.venv\\lib\\site-packages (from qiskit-terra==0.45.1->qiskit>=0.44.0->qiskit-aer) (5.1.0)\n",
      "Requirement already satisfied: six>=1.5 in c:\\g00392239_emer_tech_proj\\.venv\\lib\\site-packages (from python-dateutil>=2.8.0->qiskit-terra==0.45.1->qiskit>=0.44.0->qiskit-aer) (1.16.0)\n",
      "Requirement already satisfied: pbr!=2.1.0,>=2.0.0 in c:\\g00392239_emer_tech_proj\\.venv\\lib\\site-packages (from stevedore>=3.0.0->qiskit-terra==0.45.1->qiskit>=0.44.0->qiskit-aer) (6.0.0)\n",
      "Requirement already satisfied: mpmath>=0.19 in c:\\g00392239_emer_tech_proj\\.venv\\lib\\site-packages (from sympy>=1.3->qiskit-terra==0.45.1->qiskit>=0.44.0->qiskit-aer) (1.3.0)\n",
      "Note: you may need to restart the kernel to use updated packages.\n"
     ]
    }
   ],
   "source": [
    "%pip install qiskit-aer"
   ]
  },
  {
   "cell_type": "markdown",
   "metadata": {},
   "source": []
  },
  {
   "cell_type": "markdown",
   "metadata": {},
   "source": [
    "# Deutsch's-Joza Algorithm Qiskit Implementation [[16]](https://github.com/Qiskit/textbook/blob/main/notebooks/ch-algorithms/deutsch-jozsa.ipynb)"
   ]
  },
  {
   "cell_type": "markdown",
   "metadata": {},
   "source": [
    "In this example we will implement the Deutsch-Joza Algorithm on a three bit function with both constand and balanced oracles"
   ]
  },
  {
   "cell_type": "code",
   "execution_count": 1,
   "metadata": {},
   "outputs": [
    {
     "name": "stdout",
     "output_type": "stream",
     "text": [
      "Defaulting to user installation because normal site-packages is not writeable\n",
      "Requirement already satisfied: qiskit in c:\\users\\g00392239@atu.ie\\appdata\\roaming\\python\\python311\\site-packages (0.45.1)\n",
      "Requirement already satisfied: qiskit-terra==0.45.1 in c:\\users\\g00392239@atu.ie\\appdata\\roaming\\python\\python311\\site-packages (from qiskit) (0.45.1)\n",
      "Requirement already satisfied: rustworkx>=0.13.0 in c:\\users\\g00392239@atu.ie\\appdata\\roaming\\python\\python311\\site-packages (from qiskit-terra==0.45.1->qiskit) (0.13.2)\n",
      "Requirement already satisfied: numpy<2,>=1.17 in c:\\programdata\\anaconda\\lib\\site-packages (from qiskit-terra==0.45.1->qiskit) (1.24.3)\n",
      "Requirement already satisfied: ply>=3.10 in c:\\programdata\\anaconda\\lib\\site-packages (from qiskit-terra==0.45.1->qiskit) (3.11)\n",
      "Requirement already satisfied: psutil>=5 in c:\\programdata\\anaconda\\lib\\site-packages (from qiskit-terra==0.45.1->qiskit) (5.9.0)\n",
      "Requirement already satisfied: scipy>=1.5 in c:\\programdata\\anaconda\\lib\\site-packages (from qiskit-terra==0.45.1->qiskit) (1.11.1)\n",
      "Requirement already satisfied: sympy>=1.3 in c:\\programdata\\anaconda\\lib\\site-packages (from qiskit-terra==0.45.1->qiskit) (1.11.1)\n",
      "Requirement already satisfied: dill>=0.3 in c:\\programdata\\anaconda\\lib\\site-packages (from qiskit-terra==0.45.1->qiskit) (0.3.6)\n",
      "Requirement already satisfied: python-dateutil>=2.8.0 in c:\\programdata\\anaconda\\lib\\site-packages (from qiskit-terra==0.45.1->qiskit) (2.8.2)\n",
      "Requirement already satisfied: stevedore>=3.0.0 in c:\\users\\g00392239@atu.ie\\appdata\\roaming\\python\\python311\\site-packages (from qiskit-terra==0.45.1->qiskit) (5.1.0)\n",
      "Requirement already satisfied: six>=1.5 in c:\\programdata\\anaconda\\lib\\site-packages (from python-dateutil>=2.8.0->qiskit-terra==0.45.1->qiskit) (1.16.0)\n",
      "Requirement already satisfied: pbr!=2.1.0,>=2.0.0 in c:\\users\\g00392239@atu.ie\\appdata\\roaming\\python\\python311\\site-packages (from stevedore>=3.0.0->qiskit-terra==0.45.1->qiskit) (6.0.0)\n",
      "Requirement already satisfied: mpmath>=0.19 in c:\\programdata\\anaconda\\lib\\site-packages (from sympy>=1.3->qiskit-terra==0.45.1->qiskit) (1.3.0)\n",
      "Note: you may need to restart the kernel to use updated packages.\n"
     ]
    }
   ],
   "source": [
    "%pip install qiskit"
   ]
  },
  {
   "cell_type": "code",
   "execution_count": 3,
   "metadata": {},
   "outputs": [
    {
     "name": "stdout",
     "output_type": "stream",
     "text": [
      "Defaulting to user installation because normal site-packages is not writeable\n",
      "Collecting qiskit-ibmq-provider\n",
      "  Using cached qiskit_ibmq_provider-0.20.2-py3-none-any.whl (241 kB)\n",
      "Requirement already satisfied: qiskit-terra>=0.18.0 in c:\\users\\g00392239@atu.ie\\appdata\\roaming\\python\\python311\\site-packages (from qiskit-ibmq-provider) (0.45.1)\n",
      "Requirement already satisfied: requests>=2.19 in c:\\programdata\\anaconda\\lib\\site-packages (from qiskit-ibmq-provider) (2.31.0)\n",
      "Collecting requests-ntlm<=1.1.0 (from qiskit-ibmq-provider)\n",
      "  Using cached requests_ntlm-1.1.0-py2.py3-none-any.whl (5.7 kB)\n",
      "Collecting numpy<1.24 (from qiskit-ibmq-provider)\n",
      "  Using cached numpy-1.23.5-cp311-cp311-win_amd64.whl (14.6 MB)\n",
      "Requirement already satisfied: urllib3>=1.21.1 in c:\\programdata\\anaconda\\lib\\site-packages (from qiskit-ibmq-provider) (1.26.16)\n",
      "Requirement already satisfied: python-dateutil>=2.8.0 in c:\\programdata\\anaconda\\lib\\site-packages (from qiskit-ibmq-provider) (2.8.2)\n",
      "Collecting websocket-client>=1.5.1 (from qiskit-ibmq-provider)\n",
      "  Obtaining dependency information for websocket-client>=1.5.1 from https://files.pythonhosted.org/packages/1e/70/1e88138a9afbed1d37093b85f0bebc3011623c4f47c166431599fe9d6c93/websocket_client-1.7.0-py3-none-any.whl.metadata\n",
      "  Using cached websocket_client-1.7.0-py3-none-any.whl.metadata (7.9 kB)\n",
      "Collecting websockets>=10.0 (from qiskit-ibmq-provider)\n",
      "  Obtaining dependency information for websockets>=10.0 from https://files.pythonhosted.org/packages/d1/40/6b169cd1957476374f51f4486a3e85003149e62a14e6b78a958c2222337a/websockets-12.0-cp311-cp311-win_amd64.whl.metadata\n",
      "  Using cached websockets-12.0-cp311-cp311-win_amd64.whl.metadata (6.8 kB)\n",
      "Requirement already satisfied: six>=1.5 in c:\\programdata\\anaconda\\lib\\site-packages (from python-dateutil>=2.8.0->qiskit-ibmq-provider) (1.16.0)\n",
      "Requirement already satisfied: rustworkx>=0.13.0 in c:\\users\\g00392239@atu.ie\\appdata\\roaming\\python\\python311\\site-packages (from qiskit-terra>=0.18.0->qiskit-ibmq-provider) (0.13.2)\n",
      "Requirement already satisfied: ply>=3.10 in c:\\programdata\\anaconda\\lib\\site-packages (from qiskit-terra>=0.18.0->qiskit-ibmq-provider) (3.11)\n",
      "Requirement already satisfied: psutil>=5 in c:\\programdata\\anaconda\\lib\\site-packages (from qiskit-terra>=0.18.0->qiskit-ibmq-provider) (5.9.0)\n",
      "Requirement already satisfied: scipy>=1.5 in c:\\programdata\\anaconda\\lib\\site-packages (from qiskit-terra>=0.18.0->qiskit-ibmq-provider) (1.11.1)\n",
      "Requirement already satisfied: sympy>=1.3 in c:\\programdata\\anaconda\\lib\\site-packages (from qiskit-terra>=0.18.0->qiskit-ibmq-provider) (1.11.1)\n",
      "Requirement already satisfied: dill>=0.3 in c:\\programdata\\anaconda\\lib\\site-packages (from qiskit-terra>=0.18.0->qiskit-ibmq-provider) (0.3.6)\n",
      "Requirement already satisfied: stevedore>=3.0.0 in c:\\users\\g00392239@atu.ie\\appdata\\roaming\\python\\python311\\site-packages (from qiskit-terra>=0.18.0->qiskit-ibmq-provider) (5.1.0)\n",
      "Requirement already satisfied: charset-normalizer<4,>=2 in c:\\programdata\\anaconda\\lib\\site-packages (from requests>=2.19->qiskit-ibmq-provider) (2.0.4)\n",
      "Requirement already satisfied: idna<4,>=2.5 in c:\\programdata\\anaconda\\lib\\site-packages (from requests>=2.19->qiskit-ibmq-provider) (3.4)\n",
      "Requirement already satisfied: certifi>=2017.4.17 in c:\\programdata\\anaconda\\lib\\site-packages (from requests>=2.19->qiskit-ibmq-provider) (2023.7.22)\n",
      "Collecting ntlm-auth>=1.0.2 (from requests-ntlm<=1.1.0->qiskit-ibmq-provider)\n",
      "  Using cached ntlm_auth-1.5.0-py2.py3-none-any.whl (29 kB)\n",
      "Requirement already satisfied: cryptography>=1.3 in c:\\programdata\\anaconda\\lib\\site-packages (from requests-ntlm<=1.1.0->qiskit-ibmq-provider) (41.0.3)\n",
      "Requirement already satisfied: cffi>=1.12 in c:\\programdata\\anaconda\\lib\\site-packages (from cryptography>=1.3->requests-ntlm<=1.1.0->qiskit-ibmq-provider) (1.15.1)\n",
      "Requirement already satisfied: pbr!=2.1.0,>=2.0.0 in c:\\users\\g00392239@atu.ie\\appdata\\roaming\\python\\python311\\site-packages (from stevedore>=3.0.0->qiskit-terra>=0.18.0->qiskit-ibmq-provider) (6.0.0)\n",
      "Requirement already satisfied: mpmath>=0.19 in c:\\programdata\\anaconda\\lib\\site-packages (from sympy>=1.3->qiskit-terra>=0.18.0->qiskit-ibmq-provider) (1.3.0)\n",
      "Requirement already satisfied: pycparser in c:\\programdata\\anaconda\\lib\\site-packages (from cffi>=1.12->cryptography>=1.3->requests-ntlm<=1.1.0->qiskit-ibmq-provider) (2.21)\n",
      "Using cached websocket_client-1.7.0-py3-none-any.whl (58 kB)\n",
      "Using cached websockets-12.0-cp311-cp311-win_amd64.whl (124 kB)\n",
      "Installing collected packages: websockets, websocket-client, numpy, ntlm-auth, requests-ntlm, qiskit-ibmq-provider\n",
      "Successfully installed ntlm-auth-1.5.0 numpy-1.23.5 qiskit-ibmq-provider-0.20.2 requests-ntlm-1.1.0 websocket-client-1.7.0 websockets-12.0\n",
      "Note: you may need to restart the kernel to use updated packages.\n"
     ]
    },
    {
     "name": "stderr",
     "output_type": "stream",
     "text": [
      "  WARNING: The script wsdump.exe is installed in 'C:\\Users\\G00392239@atu.ie\\AppData\\Roaming\\Python\\Python311\\Scripts' which is not on PATH.\n",
      "  Consider adding this directory to PATH or, if you prefer to suppress this warning, use --no-warn-script-location.\n",
      "  WARNING: The script f2py.exe is installed in 'C:\\Users\\G00392239@atu.ie\\AppData\\Roaming\\Python\\Python311\\Scripts' which is not on PATH.\n",
      "  Consider adding this directory to PATH or, if you prefer to suppress this warning, use --no-warn-script-location.\n",
      "ERROR: pip's dependency resolver does not currently take into account all the packages that are installed. This behaviour is the source of the following dependency conflicts.\n",
      "gensim 4.3.0 requires FuzzyTM>=0.4.0, which is not installed.\n",
      "tables 3.8.0 requires blosc2~=2.0.0, which is not installed.\n",
      "tables 3.8.0 requires cython>=0.29.21, which is not installed.\n"
     ]
    }
   ],
   "source": [
    "pip install qiskit-ibmq-provider"
   ]
  },
  {
   "cell_type": "code",
   "execution_count": 4,
   "metadata": {},
   "outputs": [],
   "source": [
    "# initialization\n",
    "import numpy as np\n",
    "\n",
    "# importing Qiskit\n",
    "from qiskit import IBMQ, Aer\n",
    "from qiskit.providers.ibmq import least_busy\n",
    "from qiskit import QuantumCircuit, transpile\n",
    "\n",
    "# import basic plot tools\n",
    "from qiskit.visualization import plot_histogram"
   ]
  },
  {
   "cell_type": "markdown",
   "metadata": {},
   "source": [
    "Now set the size of the input register for the oracle"
   ]
  },
  {
   "cell_type": "code",
   "execution_count": 5,
   "metadata": {},
   "outputs": [],
   "source": [
    "# set the length of the n-bit input string. \n",
    "n = 3"
   ]
  },
  {
   "cell_type": "markdown",
   "metadata": {},
   "source": [
    "Now create a constant oracle just randomly set the output of the qubit to 0 or 1 because in this case the input has no effect on the output"
   ]
  },
  {
   "cell_type": "code",
   "execution_count": 6,
   "metadata": {},
   "outputs": [
    {
     "data": {
      "text/html": [
       "<pre style=\"word-wrap: normal;white-space: pre;background: #fff0;line-height: 1.1;font-family: &quot;Courier New&quot;,Courier,monospace\">          \n",
       "q_0: ─────\n",
       "          \n",
       "q_1: ─────\n",
       "          \n",
       "q_2: ─────\n",
       "     ┌───┐\n",
       "q_3: ┤ X ├\n",
       "     └───┘</pre>"
      ],
      "text/plain": [
       "          \n",
       "q_0: ─────\n",
       "          \n",
       "q_1: ─────\n",
       "          \n",
       "q_2: ─────\n",
       "     ┌───┐\n",
       "q_3: ┤ X ├\n",
       "     └───┘"
      ]
     },
     "execution_count": 6,
     "metadata": {},
     "output_type": "execute_result"
    }
   ],
   "source": [
    "# set the length of the n-bit input string. \n",
    "n = 3\n",
    "\n",
    "const_oracle = QuantumCircuit(n+1)\n",
    "\n",
    "output = np.random.randint(2)\n",
    "if output == 1:\n",
    "    const_oracle.x(n)\n",
    "\n",
    "const_oracle.draw()"
   ]
  },
  {
   "cell_type": "markdown",
   "metadata": {},
   "source": [
    "now create a balanced oracle. it can be created by perfoming CNOTs with each input qubit as a control and the out bit as the target. We can vary the input stats that give 0 or 1 by wrapping some of the controls in X-gates. We choose a binary string of length N that dictates which controls to wrap."
   ]
  },
  {
   "cell_type": "code",
   "execution_count": 7,
   "metadata": {},
   "outputs": [],
   "source": [
    "balanced_oracle = QuantumCircuit(n+1)"
   ]
  },
  {
   "cell_type": "code",
   "execution_count": 8,
   "metadata": {},
   "outputs": [],
   "source": [
    "b_str = \"101\""
   ]
  },
  {
   "cell_type": "markdown",
   "metadata": {},
   "source": [
    "We now have this tring that we can use it as a key to place our X-gates. for each qubit in our circuit we place and X-gate if the corresponding digit in b_str is 1 or do nothing if the digit is 0"
   ]
  },
  {
   "cell_type": "code",
   "execution_count": 9,
   "metadata": {},
   "outputs": [
    {
     "data": {
      "text/html": [
       "<pre style=\"word-wrap: normal;white-space: pre;background: #fff0;line-height: 1.1;font-family: &quot;Courier New&quot;,Courier,monospace\">     ┌───┐\n",
       "q_0: ┤ X ├\n",
       "     └───┘\n",
       "q_1: ─────\n",
       "     ┌───┐\n",
       "q_2: ┤ X ├\n",
       "     └───┘\n",
       "q_3: ─────\n",
       "          </pre>"
      ],
      "text/plain": [
       "     ┌───┐\n",
       "q_0: ┤ X ├\n",
       "     └───┘\n",
       "q_1: ─────\n",
       "     ┌───┐\n",
       "q_2: ┤ X ├\n",
       "     └───┘\n",
       "q_3: ─────\n",
       "          "
      ]
     },
     "execution_count": 9,
     "metadata": {},
     "output_type": "execute_result"
    }
   ],
   "source": [
    "balanced_oracle = QuantumCircuit(n+1)\n",
    "b_str = \"101\"\n",
    "\n",
    "# Place X-gates\n",
    "for qubit in range(len(b_str)):\n",
    "    if b_str[qubit] == '1':\n",
    "        balanced_oracle.x(qubit)\n",
    "balanced_oracle.draw()"
   ]
  },
  {
   "cell_type": "markdown",
   "metadata": {},
   "source": [
    "Now we do our controlled-NOT gates using each input qubit as a control and the output quibit as a target"
   ]
  },
  {
   "cell_type": "code",
   "execution_count": 10,
   "metadata": {},
   "outputs": [
    {
     "data": {
      "text/html": [
       "<pre style=\"word-wrap: normal;white-space: pre;background: #fff0;line-height: 1.1;font-family: &quot;Courier New&quot;,Courier,monospace\">     ┌───┐ ░                 ░ \n",
       "q_0: ┤ X ├─░───■─────────────░─\n",
       "     └───┘ ░   │             ░ \n",
       "q_1: ──────░───┼────■────────░─\n",
       "     ┌───┐ ░   │    │        ░ \n",
       "q_2: ┤ X ├─░───┼────┼────■───░─\n",
       "     └───┘ ░ ┌─┴─┐┌─┴─┐┌─┴─┐ ░ \n",
       "q_3: ──────░─┤ X ├┤ X ├┤ X ├─░─\n",
       "           ░ └───┘└───┘└───┘ ░ </pre>"
      ],
      "text/plain": [
       "     ┌───┐ ░                 ░ \n",
       "q_0: ┤ X ├─░───■─────────────░─\n",
       "     └───┘ ░   │             ░ \n",
       "q_1: ──────░───┼────■────────░─\n",
       "     ┌───┐ ░   │    │        ░ \n",
       "q_2: ┤ X ├─░───┼────┼────■───░─\n",
       "     └───┘ ░ ┌─┴─┐┌─┴─┐┌─┴─┐ ░ \n",
       "q_3: ──────░─┤ X ├┤ X ├┤ X ├─░─\n",
       "           ░ └───┘└───┘└───┘ ░ "
      ]
     },
     "execution_count": 10,
     "metadata": {},
     "output_type": "execute_result"
    }
   ],
   "source": [
    "balanced_oracle = QuantumCircuit(n+1)\n",
    "b_str = \"101\"\n",
    "\n",
    "# Place X-gates\n",
    "for qubit in range(len(b_str)):\n",
    "    if b_str[qubit] == '1':\n",
    "        balanced_oracle.x(qubit)\n",
    "\n",
    "# Use barrier as divider\n",
    "balanced_oracle.barrier()\n",
    "\n",
    "# Controlled-NOT gates\n",
    "for qubit in range(n):\n",
    "    balanced_oracle.cx(qubit, n)\n",
    "\n",
    "balanced_oracle.barrier()\n",
    "balanced_oracle.draw()"
   ]
  },
  {
   "cell_type": "markdown",
   "metadata": {},
   "source": [
    "Next we finish wrapping the control in the X-gates"
   ]
  },
  {
   "cell_type": "code",
   "execution_count": 11,
   "metadata": {},
   "outputs": [
    {
     "data": {
      "text/html": [
       "<pre style=\"word-wrap: normal;white-space: pre;background: #fff0;line-height: 1.1;font-family: &quot;Courier New&quot;,Courier,monospace\">     ┌───┐ ░                 ░ ┌───┐\n",
       "q_0: ┤ X ├─░───■─────────────░─┤ X ├\n",
       "     └───┘ ░   │             ░ └───┘\n",
       "q_1: ──────░───┼────■────────░──────\n",
       "     ┌───┐ ░   │    │        ░ ┌───┐\n",
       "q_2: ┤ X ├─░───┼────┼────■───░─┤ X ├\n",
       "     └───┘ ░ ┌─┴─┐┌─┴─┐┌─┴─┐ ░ └───┘\n",
       "q_3: ──────░─┤ X ├┤ X ├┤ X ├─░──────\n",
       "           ░ └───┘└───┘└───┘ ░      </pre>"
      ],
      "text/plain": [
       "     ┌───┐ ░                 ░ ┌───┐\n",
       "q_0: ┤ X ├─░───■─────────────░─┤ X ├\n",
       "     └───┘ ░   │             ░ └───┘\n",
       "q_1: ──────░───┼────■────────░──────\n",
       "     ┌───┐ ░   │    │        ░ ┌───┐\n",
       "q_2: ┤ X ├─░───┼────┼────■───░─┤ X ├\n",
       "     └───┘ ░ ┌─┴─┐┌─┴─┐┌─┴─┐ ░ └───┘\n",
       "q_3: ──────░─┤ X ├┤ X ├┤ X ├─░──────\n",
       "           ░ └───┘└───┘└───┘ ░      "
      ]
     },
     "execution_count": 11,
     "metadata": {},
     "output_type": "execute_result"
    }
   ],
   "source": [
    "balanced_oracle = QuantumCircuit(n+1)\n",
    "b_str = \"101\"\n",
    "\n",
    "# Place X-gates\n",
    "for qubit in range(len(b_str)):\n",
    "    if b_str[qubit] == '1':\n",
    "        balanced_oracle.x(qubit)\n",
    "\n",
    "# Use barrier as divider\n",
    "balanced_oracle.barrier()\n",
    "\n",
    "# Controlled-NOT gates\n",
    "for qubit in range(n):\n",
    "    balanced_oracle.cx(qubit, n)\n",
    "\n",
    "balanced_oracle.barrier()\n",
    "\n",
    "# Place X-gates\n",
    "for qubit in range(len(b_str)):\n",
    "    if b_str[qubit] == '1':\n",
    "        balanced_oracle.x(qubit)\n",
    "\n",
    "# Show oracle\n",
    "balanced_oracle.draw()"
   ]
  },
  {
   "cell_type": "markdown",
   "metadata": {},
   "source": [
    "Now we put everything together we first initialize the input qubits in the state $ |+\\rangle $ and the ouput  qubit in the state  $ |-\\rangle $"
   ]
  },
  {
   "cell_type": "code",
   "execution_count": 12,
   "metadata": {},
   "outputs": [
    {
     "data": {
      "text/html": [
       "<pre style=\"word-wrap: normal;white-space: pre;background: #fff0;line-height: 1.1;font-family: &quot;Courier New&quot;,Courier,monospace\">     ┌───┐     \n",
       "q_0: ┤ H ├─────\n",
       "     ├───┤     \n",
       "q_1: ┤ H ├─────\n",
       "     ├───┤     \n",
       "q_2: ┤ H ├─────\n",
       "     ├───┤┌───┐\n",
       "q_3: ┤ X ├┤ H ├\n",
       "     └───┘└───┘\n",
       "c: 3/══════════\n",
       "               </pre>"
      ],
      "text/plain": [
       "     ┌───┐     \n",
       "q_0: ┤ H ├─────\n",
       "     ├───┤     \n",
       "q_1: ┤ H ├─────\n",
       "     ├───┤     \n",
       "q_2: ┤ H ├─────\n",
       "     ├───┤┌───┐\n",
       "q_3: ┤ X ├┤ H ├\n",
       "     └───┘└───┘\n",
       "c: 3/══════════\n",
       "               "
      ]
     },
     "execution_count": 12,
     "metadata": {},
     "output_type": "execute_result"
    }
   ],
   "source": [
    "dj_circuit = QuantumCircuit(n+1, n)\n",
    "\n",
    "# Apply H-gates\n",
    "for qubit in range(n):\n",
    "    dj_circuit.h(qubit)\n",
    "\n",
    "# Put qubit in state |->\n",
    "dj_circuit.x(n)\n",
    "dj_circuit.h(n)\n",
    "dj_circuit.draw()"
   ]
  },
  {
   "cell_type": "markdown",
   "metadata": {},
   "source": [
    "now we apply the oracle a balanced_oracle is what we will apply"
   ]
  },
  {
   "cell_type": "code",
   "execution_count": 13,
   "metadata": {},
   "outputs": [
    {
     "data": {
      "text/html": [
       "<pre style=\"word-wrap: normal;white-space: pre;background: #fff0;line-height: 1.1;font-family: &quot;Courier New&quot;,Courier,monospace\">     ┌───┐┌───┐ ░                 ░ ┌───┐\n",
       "q_0: ┤ H ├┤ X ├─░───■─────────────░─┤ X ├\n",
       "     ├───┤└───┘ ░   │             ░ └───┘\n",
       "q_1: ┤ H ├──────░───┼────■────────░──────\n",
       "     ├───┤┌───┐ ░   │    │        ░ ┌───┐\n",
       "q_2: ┤ H ├┤ X ├─░───┼────┼────■───░─┤ X ├\n",
       "     ├───┤├───┤ ░ ┌─┴─┐┌─┴─┐┌─┴─┐ ░ └───┘\n",
       "q_3: ┤ X ├┤ H ├─░─┤ X ├┤ X ├┤ X ├─░──────\n",
       "     └───┘└───┘ ░ └───┘└───┘└───┘ ░      \n",
       "c: 3/════════════════════════════════════\n",
       "                                         </pre>"
      ],
      "text/plain": [
       "     ┌───┐┌───┐ ░                 ░ ┌───┐\n",
       "q_0: ┤ H ├┤ X ├─░───■─────────────░─┤ X ├\n",
       "     ├───┤└───┘ ░   │             ░ └───┘\n",
       "q_1: ┤ H ├──────░───┼────■────────░──────\n",
       "     ├───┤┌───┐ ░   │    │        ░ ┌───┐\n",
       "q_2: ┤ H ├┤ X ├─░───┼────┼────■───░─┤ X ├\n",
       "     ├───┤├───┤ ░ ┌─┴─┐┌─┴─┐┌─┴─┐ ░ └───┘\n",
       "q_3: ┤ X ├┤ H ├─░─┤ X ├┤ X ├┤ X ├─░──────\n",
       "     └───┘└───┘ ░ └───┘└───┘└───┘ ░      \n",
       "c: 3/════════════════════════════════════\n",
       "                                         "
      ]
     },
     "execution_count": 13,
     "metadata": {},
     "output_type": "execute_result"
    }
   ],
   "source": [
    "dj_circuit = QuantumCircuit(n+1, n)\n",
    "\n",
    "# Apply H-gates\n",
    "for qubit in range(n):\n",
    "    dj_circuit.h(qubit)\n",
    "\n",
    "# Put qubit in state |->\n",
    "dj_circuit.x(n)\n",
    "dj_circuit.h(n)\n",
    "\n",
    "# Add oracle\n",
    "dj_circuit = dj_circuit.compose(balanced_oracle)\n",
    "dj_circuit.draw()"
   ]
  },
  {
   "cell_type": "markdown",
   "metadata": {},
   "source": [
    "now we peform H-gates on the $n$-input qubits and measure our input register"
   ]
  },
  {
   "cell_type": "code",
   "execution_count": 14,
   "metadata": {},
   "outputs": [
    {
     "data": {
      "text/html": [
       "<pre style=\"word-wrap: normal;white-space: pre;background: #fff0;line-height: 1.1;font-family: &quot;Courier New&quot;,Courier,monospace\">     ┌───┐┌───┐ ░                 ░ ┌───┐┌───┐ ░ ┌─┐      \n",
       "q_0: ┤ H ├┤ X ├─░───■─────────────░─┤ X ├┤ H ├─░─┤M├──────\n",
       "     ├───┤└───┘ ░   │             ░ ├───┤└───┘ ░ └╥┘┌─┐   \n",
       "q_1: ┤ H ├──────░───┼────■────────░─┤ H ├──────░──╫─┤M├───\n",
       "     ├───┤┌───┐ ░   │    │        ░ ├───┤┌───┐ ░  ║ └╥┘┌─┐\n",
       "q_2: ┤ H ├┤ X ├─░───┼────┼────■───░─┤ X ├┤ H ├─░──╫──╫─┤M├\n",
       "     ├───┤├───┤ ░ ┌─┴─┐┌─┴─┐┌─┴─┐ ░ └───┘└───┘ ░  ║  ║ └╥┘\n",
       "q_3: ┤ X ├┤ H ├─░─┤ X ├┤ X ├┤ X ├─░────────────░──╫──╫──╫─\n",
       "     └───┘└───┘ ░ └───┘└───┘└───┘ ░            ░  ║  ║  ║ \n",
       "c: 3/═════════════════════════════════════════════╩══╩══╩═\n",
       "                                                  0  1  2 </pre>"
      ],
      "text/plain": [
       "     ┌───┐┌───┐ ░                 ░ ┌───┐┌───┐ ░ ┌─┐      \n",
       "q_0: ┤ H ├┤ X ├─░───■─────────────░─┤ X ├┤ H ├─░─┤M├──────\n",
       "     ├───┤└───┘ ░   │             ░ ├───┤└───┘ ░ └╥┘┌─┐   \n",
       "q_1: ┤ H ├──────░───┼────■────────░─┤ H ├──────░──╫─┤M├───\n",
       "     ├───┤┌───┐ ░   │    │        ░ ├───┤┌───┐ ░  ║ └╥┘┌─┐\n",
       "q_2: ┤ H ├┤ X ├─░───┼────┼────■───░─┤ X ├┤ H ├─░──╫──╫─┤M├\n",
       "     ├───┤├───┤ ░ ┌─┴─┐┌─┴─┐┌─┴─┐ ░ └───┘└───┘ ░  ║  ║ └╥┘\n",
       "q_3: ┤ X ├┤ H ├─░─┤ X ├┤ X ├┤ X ├─░────────────░──╫──╫──╫─\n",
       "     └───┘└───┘ ░ └───┘└───┘└───┘ ░            ░  ║  ║  ║ \n",
       "c: 3/═════════════════════════════════════════════╩══╩══╩═\n",
       "                                                  0  1  2 "
      ]
     },
     "execution_count": 14,
     "metadata": {},
     "output_type": "execute_result"
    }
   ],
   "source": [
    "dj_circuit = QuantumCircuit(n+1, n)\n",
    "\n",
    "# Apply H-gates\n",
    "for qubit in range(n):\n",
    "    dj_circuit.h(qubit)\n",
    "\n",
    "# Put qubit in state |->\n",
    "dj_circuit.x(n)\n",
    "dj_circuit.h(n)\n",
    "\n",
    "# Add oracle\n",
    "dj_circuit = dj_circuit.compose(balanced_oracle)\n",
    "\n",
    "# Repeat H-gates\n",
    "for qubit in range(n):\n",
    "    dj_circuit.h(qubit)\n",
    "dj_circuit.barrier()\n",
    "\n",
    "# Measure\n",
    "for i in range(n):\n",
    "    dj_circuit.measure(i, i)\n",
    "\n",
    "# Display circuit\n",
    "dj_circuit.draw()"
   ]
  },
  {
   "cell_type": "markdown",
   "metadata": {},
   "source": [
    "Output is :"
   ]
  },
  {
   "cell_type": "code",
   "execution_count": 16,
   "metadata": {},
   "outputs": [
    {
     "name": "stdout",
     "output_type": "stream",
     "text": [
      "Defaulting to user installation because normal site-packages is not writeable\n",
      "Collecting qiskit-aer\n",
      "  Obtaining dependency information for qiskit-aer from https://files.pythonhosted.org/packages/4a/36/565d818dba0b66ce53544dd89c7bfaf482aaf99641dfa96c1352be24b62a/qiskit_aer-0.13.1-cp311-cp311-win_amd64.whl.metadata\n",
      "  Downloading qiskit_aer-0.13.1-cp311-cp311-win_amd64.whl.metadata (6.2 kB)\n",
      "Requirement already satisfied: qiskit>=0.44.0 in c:\\users\\g00392239@atu.ie\\appdata\\roaming\\python\\python311\\site-packages (from qiskit-aer) (0.45.1)\n",
      "Requirement already satisfied: numpy>=1.16.3 in c:\\users\\g00392239@atu.ie\\appdata\\roaming\\python\\python311\\site-packages (from qiskit-aer) (1.23.5)\n",
      "Requirement already satisfied: scipy>=1.0 in c:\\programdata\\anaconda\\lib\\site-packages (from qiskit-aer) (1.11.1)\n",
      "Requirement already satisfied: psutil>=5 in c:\\programdata\\anaconda\\lib\\site-packages (from qiskit-aer) (5.9.0)\n",
      "Requirement already satisfied: qiskit-terra==0.45.1 in c:\\users\\g00392239@atu.ie\\appdata\\roaming\\python\\python311\\site-packages (from qiskit>=0.44.0->qiskit-aer) (0.45.1)\n",
      "Requirement already satisfied: rustworkx>=0.13.0 in c:\\users\\g00392239@atu.ie\\appdata\\roaming\\python\\python311\\site-packages (from qiskit-terra==0.45.1->qiskit>=0.44.0->qiskit-aer) (0.13.2)\n",
      "Requirement already satisfied: ply>=3.10 in c:\\programdata\\anaconda\\lib\\site-packages (from qiskit-terra==0.45.1->qiskit>=0.44.0->qiskit-aer) (3.11)\n",
      "Requirement already satisfied: sympy>=1.3 in c:\\programdata\\anaconda\\lib\\site-packages (from qiskit-terra==0.45.1->qiskit>=0.44.0->qiskit-aer) (1.11.1)\n",
      "Requirement already satisfied: dill>=0.3 in c:\\programdata\\anaconda\\lib\\site-packages (from qiskit-terra==0.45.1->qiskit>=0.44.0->qiskit-aer) (0.3.6)\n",
      "Requirement already satisfied: python-dateutil>=2.8.0 in c:\\programdata\\anaconda\\lib\\site-packages (from qiskit-terra==0.45.1->qiskit>=0.44.0->qiskit-aer) (2.8.2)\n",
      "Requirement already satisfied: stevedore>=3.0.0 in c:\\users\\g00392239@atu.ie\\appdata\\roaming\\python\\python311\\site-packages (from qiskit-terra==0.45.1->qiskit>=0.44.0->qiskit-aer) (5.1.0)\n",
      "Requirement already satisfied: six>=1.5 in c:\\programdata\\anaconda\\lib\\site-packages (from python-dateutil>=2.8.0->qiskit-terra==0.45.1->qiskit>=0.44.0->qiskit-aer) (1.16.0)\n",
      "Requirement already satisfied: pbr!=2.1.0,>=2.0.0 in c:\\users\\g00392239@atu.ie\\appdata\\roaming\\python\\python311\\site-packages (from stevedore>=3.0.0->qiskit-terra==0.45.1->qiskit>=0.44.0->qiskit-aer) (6.0.0)\n",
      "Requirement already satisfied: mpmath>=0.19 in c:\\programdata\\anaconda\\lib\\site-packages (from sympy>=1.3->qiskit-terra==0.45.1->qiskit>=0.44.0->qiskit-aer) (1.3.0)\n",
      "Downloading qiskit_aer-0.13.1-cp311-cp311-win_amd64.whl (9.5 MB)\n",
      "   ---------------------------------------- 0.0/9.5 MB ? eta -:--:--\n",
      "   ---------------------------------------- 0.0/9.5 MB ? eta -:--:--\n",
      "   ---------------------------------------- 0.0/9.5 MB 1.9 MB/s eta 0:00:05\n",
      "   -- ------------------------------------- 0.5/9.5 MB 6.2 MB/s eta 0:00:02\n",
      "   ---- ----------------------------------- 1.0/9.5 MB 11.0 MB/s eta 0:00:01\n",
      "   ---- ----------------------------------- 1.1/9.5 MB 6.5 MB/s eta 0:00:02\n",
      "   -------- ------------------------------- 2.1/9.5 MB 10.2 MB/s eta 0:00:01\n",
      "   -------- ------------------------------- 2.1/9.5 MB 10.2 MB/s eta 0:00:01\n",
      "   ---------- ----------------------------- 2.5/9.5 MB 8.0 MB/s eta 0:00:01\n",
      "   ------------- -------------------------- 3.1/9.5 MB 9.6 MB/s eta 0:00:01\n",
      "   ----------------- ---------------------- 4.2/9.5 MB 10.7 MB/s eta 0:00:01\n",
      "   ----------------- ---------------------- 4.2/9.5 MB 10.7 MB/s eta 0:00:01\n",
      "   --------------------- ------------------ 5.0/9.5 MB 10.3 MB/s eta 0:00:01\n",
      "   ---------------------- ----------------- 5.2/9.5 MB 10.5 MB/s eta 0:00:01\n",
      "   ------------------------- -------------- 6.1/9.5 MB 10.5 MB/s eta 0:00:01\n",
      "   ----------------------------- ---------- 7.0/9.5 MB 11.1 MB/s eta 0:00:01\n",
      "   --------------------------------- ------ 8.1/9.5 MB 12.0 MB/s eta 0:00:01\n",
      "   ---------------------------------------  9.5/9.5 MB 13.2 MB/s eta 0:00:01\n",
      "   ---------------------------------------- 9.5/9.5 MB 12.4 MB/s eta 0:00:00\n",
      "Installing collected packages: qiskit-aer\n",
      "Successfully installed qiskit-aer-0.13.1\n",
      "Note: you may need to restart the kernel to use updated packages.\n"
     ]
    }
   ],
   "source": [
    "%pip install qiskit-aer"
   ]
  },
  {
   "cell_type": "code",
   "execution_count": 17,
   "metadata": {},
   "outputs": [
    {
     "data": {
      "image/png": "[encoded data removed]",
      "text/plain": [
       "<Figure size 700x500 with 1 Axes>"
      ]
     },
     "execution_count": 17,
     "metadata": {},
     "output_type": "execute_result"
    }
   ],
   "source": [
    "# use local simulator\n",
    "aer_sim = Aer.get_backend('aer_simulator')\n",
    "results = aer_sim.run(dj_circuit).result()\n",
    "answer = results.get_counts()\n",
    "\n",
    "plot_histogram(answer)"
   ]
  },
  {
   "cell_type": "markdown",
   "metadata": {},
   "source": [
    "From the result we have a 0% chance of measuring 000. this predicts the function is balanced"
   ]
  },
  {
   "cell_type": "code",
   "execution_count": 18,
   "metadata": {},
   "outputs": [],
   "source": [
    "assert answer.get('000', 0) == 0"
   ]
  },
  {
   "cell_type": "markdown",
   "metadata": {},
   "source": [
    "# References\n",
    "\n",
    "Quantum Mechanics Explained by wikipedia https://en.wikipedia.org/wiki/Quantum_mechanics [[1]](https://en.wikipedia.org/wiki/Quantum_mechanics)\n",
    "\n",
    "A Computer Explained by wikipedia https://en.wikipedia.org/wiki/Computer [[2]](https://en.wikipedia.org/wiki/Computer)\n",
    "\n",
    "What a Computer is https://www.computerhope.com/jargon/c/computer.htm [[3]](https://www.computerhope.com/jargon/c/computer.htm)\n",
    "\n",
    "What is quantum Computing  https://aws.amazon.com/what-is/quantum-computing/#:~:text=Quantum%20computing%20is%20a%20multidisciplinary,faster%20than%20on%20classical%20computers.[[4]](https://aws.amazon.com/what-is/quantum-computing/#:~:text=Quantum%20computing%20is%20a%20multidisciplinary,faster%20than%20on%20classical%20computers.)\n",
    "\n",
    "SuperPosition https://www.techtarget.com/whatis/definition/superposition#:~:text=Superposition%20is%20the%20ability%20of,the%20English%20physicist%2C%20Thomas%20Young.[[5]](https://www.techtarget.com/whatis/definition/superposition#:~:text=Superposition%20is%20the%20ability%20of,the%20English%20physicist%2C%20Thomas%20Young.)\n",
    "\n",
    "What is quantum interference and how does it work https://www.techtarget.com/whatis/definition/quantum-interference#:~:text=Quantum%20interference%20is%20when%20subatomic,the%20quantum%20state%20is%20measured.[[6]](https://www.techtarget.com/whatis/definition/quantum-interference#:~:text=Quantum%20interference%20is%20when%20subatomic,the%20quantum%20state%20is%20measured.)\n",
    "\n",
    "what is a quantum algorithm https://www.quantum-inspire.com/kbase/what-is-a-quantum-algorithm/[[7]](https://www.quantum-inspire.com/kbase/what-is-a-quantum-algorithm/)\n",
    "\n",
    "Quantum algorithm https://en.wikipedia.org/wiki/Quantum_algorithm[[8]](https://en.wikipedia.org/wiki/Quantum_algorithm)\n",
    "\n",
    "Quantum Computer Science https://www.researchgate.net/publication/220696169_Quantum_Computer_Science[[9]](https://www.researchgate.net/publication/220696169_Quantum_Computer_Science)\n",
    "\n",
    "Black Box https://en.wikipedia.org/wiki/Black_box[[10]](https://en.wikipedia.org/wiki/Black_box)\n",
    "\n",
    "Deutsch-Jozsa algorithm https://en.wikipedia.org/wiki/Deutsch%E2%80%93Jozsa_algorithm[[11]](https://en.wikipedia.org/wiki/Deutsch%E2%80%93Jozsa_algorithm)\n",
    "\n",
    "Deutsch-Josza algorithm explained https://www.classiq.io/insights/the-deutsch-jozsa-algorithm-explained#:~:text=The%20Deutsch%2DJozsa%20algorithm%20determines,likely%20constant%20or%20likely%20balanced.[[12]](https://www.classiq.io/insights/the-deutsch-jozsa-algorithm-explained#:~:text=The%20Deutsch%2DJozsa%20algorithm%20determines,likely%20constant%20or%20likely%20balanced.)\n",
    "\n",
    "Computation https://cs.brown.edu/people/jsavage/book/pdfs/ModelsOfComputation.pdf[[13]](https://cs.brown.edu/people/jsavage/book/pdfs/ModelsOfComputation.pdf)\n",
    "\n",
    "Qubit https://www.techtarget.com/whatis/definition/qubit[[14]](https://www.techtarget.com/whatis/definition/qubit)\n",
    "\n",
    "\n",
    "Superposition and entanglement https://www.quantum-inspire.com/kbase/superposition-and-entanglement/[[15]](https://www.quantum-inspire.com/kbase/superposition-and-entanglement/).\n",
    "\n",
    "\n",
    "Github Deutsch algorithm https://github.com/Qiskit/textbook/blob/main/notebooks/ch-algorithms/deutsch-jozsa.ipynb[[16]](https://github.com/Qiskit/textbook/blob/main/notebooks/ch-algorithms/deutsch-jozsa.ipynb)"
   ]
  }
 ],
 "metadata": {
  "interpreter": {
   "hash": "b89b5cfaba6639976dc87ff2fec6d58faec662063367e2c229c520fe71072417"
  },
  "kernelspec": {
   "display_name": "Python 3.10.5 64-bit",
   "language": "python",
   "name": "python3"
  },
  "language_info": {
   "codemirror_mode": {
    "name": "ipython",
    "version": 3
   },
   "file_extension": ".py",
   "mimetype": "text/x-python",
   "name": "python",
   "nbconvert_exporter": "python",
   "pygments_lexer": "ipython3",
   "version": "3.11.5"
  },
  "orig_nbformat": 4
 },
 "nbformat": 4,
 "nbformat_minor": 2
}
