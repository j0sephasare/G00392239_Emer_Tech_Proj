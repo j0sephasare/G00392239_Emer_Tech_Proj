{
 "cells": [
  {
   "cell_type": "markdown",
   "metadata": {},
   "source": [
    "# Deutsch's Algorithm\n",
    "\n"
   ]
  },
  {
   "cell_type": "markdown",
   "metadata": {},
   "source": [
    "## Introduction "
   ]
  },
  {
   "cell_type": "markdown",
   "metadata": {},
   "source": [
    "\n",
    "\n",
    "To explain Deutsch's Algorithm I first have to explain what is quantum computing and then to explain Quantum computing I have to explain what Quantum mechanics and a computer is all these have a direct link to one another "
   ]
  },
  {
   "cell_type": "markdown",
   "metadata": {},
   "source": [
    "### Computer\n",
    "\n",
    "A computer is a machine that has been made and programmed to do a sequence of arithmetic or logical operations automatically [[1]](https://en.wikipedia.org/wiki/Computer). most modern day electronics can preform a set of programs these programs allows computer to do a wide range of tasks like calculating basic maths to storing data on the device. A computer system is mostly made of components this includes a hardware, operating system and a peripheral device to see what is going on a basic personal computing setup you can buy these days are an example of that. The term computer was given to humans who could do numerical calculations using mechanical calculators [[3]](https://www.computerhope.com/jargon/c/computer.htm)"
   ]
  },
  {
   "cell_type": "markdown",
   "metadata": {},
   "source": [
    "### Quantum  Mechanics\n",
    "\n",
    " Quantum mechanics is a theory in physics that describes the behavior at the scale of atoms and subatomic particles [[2]](https://en.wikipedia.org/wiki/Quantum_mechanics). Quantum mechanics came up gradually from theories to expain observations that could not come to term with classic physics."
   ]
  },
  {
   "cell_type": "markdown",
   "metadata": {},
   "source": [
    "# Quantum Computing\n",
    "\n",
    "Quantum Computing is made of three aspect computer science,physics and mathematics it uses quantum mechanics to solve problems faster than regular computer[[4]](https://aws.amazon.com/what-is/quantum-computing/#:~:text=Quantum%20computing%20is%20a%20multidisciplinary,faster%20than%20on%20classical%20computers.).Quantum computing uses tools such as superpositioning and quantum interence to do so.\n",
    "Superposition is the quantum system being able to be in multiple states at the same time until it is measured[[5]](https://www.techtarget.com/whatis/definition/superposition#:~:text=Superposition%20is%20the%20ability%20of,the%20English%20physicist%2C%20Thomas%20Young) and Quantum interference is when subatomic particles interact with and influence themselves and other particles while in a superposition state meaning it can influence the probability of the outcomes when the quantum state is measured.Now going back to quantum computing the use of it would be for machine learning and the simulation of physical systems.The eventual theorzised use for it could be fore solving problems that are currently impossible to solve[[6]](https://www.techtarget.com/whatis/definition/quantum-interference#:~:text=Quantum%20interference%20is%20when%20subatomic,the%20quantum%20state%20is%20measured)"
   ]
  },
  {
   "cell_type": "markdown",
   "metadata": {},
   "source": [
    "# Quantum Algorithm\n",
    "\n",
    "To explain what Quantum alogorithms are I first have to explain what an algorithm is. An algorithm is a step by step procedure to prefom a calculation or it can be a sequence of intructions to solve a problem where each step can be done a computer. A quantum algorithm is just an algorithm that was one of it steps being defined at quantum like using superposition. Quantum algorithms are described by Quantum circuits [[7]](https://www.quantum-inspire.com/kbase/what-is-a-quantum-algorithm/) a quantum circuit is model for quantum computation the steps to solve the problem are quantum gates preformed on one or more qubits. A quibit is short for quantum bit it is a bit that can either have the value of 0 or 1."
   ]
  },
  {
   "cell_type": "markdown",
   "metadata": {},
   "source": [
    "# Deutsch's Algorithm"
   ]
  },
  {
   "cell_type": "markdown",
   "metadata": {},
   "source": [
    "# References\n",
    "\n",
    "Quantum Mechanics Explained by wikipedia https://en.wikipedia.org/wiki/Quantum_mechanics [[1]](https://en.wikipedia.org/wiki/Quantum_mechanics)\n",
    "\n",
    "A Computer Explained by wikipedia https://en.wikipedia.org/wiki/Computer [[2]](https://en.wikipedia.org/wiki/Computer)\n",
    "\n",
    "What a Computer is https://www.computerhope.com/jargon/c/computer.htm [[3]](https://www.computerhope.com/jargon/c/computer.htm)\n",
    "\n",
    "What is quantum Computing  https://aws.amazon.com/what-is/quantum-computing/#:~:text=Quantum%20computing%20is%20a%20multidisciplinary,faster%20than%20on%20classical%20computers.[[4]](https://aws.amazon.com/what-is/quantum-computing/#:~:text=Quantum%20computing%20is%20a%20multidisciplinary,faster%20than%20on%20classical%20computers.)\n",
    "\n",
    "SuperPosition https://www.techtarget.com/whatis/definition/superposition#:~:text=Superposition%20is%20the%20ability%20of,the%20English%20physicist%2C%20Thomas%20Young.[[5]](https://www.techtarget.com/whatis/definition/superposition#:~:text=Superposition%20is%20the%20ability%20of,the%20English%20physicist%2C%20Thomas%20Young.)\n",
    "\n",
    "What is quantum interference and how does it work https://www.techtarget.com/whatis/definition/quantum-interference#:~:text=Quantum%20interference%20is%20when%20subatomic,the%20quantum%20state%20is%20measured.[[6]](https://www.techtarget.com/whatis/definition/quantum-interference#:~:text=Quantum%20interference%20is%20when%20subatomic,the%20quantum%20state%20is%20measured.)\n",
    "\n",
    "what is a quantum algorithm https://www.quantum-inspire.com/kbase/what-is-a-quantum-algorithm/[[7]](https://www.quantum-inspire.com/kbase/what-is-a-quantum-algorithm/)"
   ]
  },
  {
   "cell_type": "markdown",
   "metadata": {},
   "source": []
  }
 ],
 "metadata": {
  "interpreter": {
   "hash": "b89b5cfaba6639976dc87ff2fec6d58faec662063367e2c229c520fe71072417"
  },
  "kernelspec": {
   "display_name": "Python 3.10.5 64-bit",
   "language": "python",
   "name": "python3"
  },
  "language_info": {
   "codemirror_mode": {
    "name": "ipython",
    "version": 3
   },
   "file_extension": ".py",
   "mimetype": "text/x-python",
   "name": "python",
   "nbconvert_exporter": "python",
   "pygments_lexer": "ipython3",
   "version": "3.10.5"
  },
  "orig_nbformat": 4
 },
 "nbformat": 4,
 "nbformat_minor": 2
}
